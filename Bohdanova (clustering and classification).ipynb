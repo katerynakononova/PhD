{
 "cells": [
  {
   "cell_type": "code",
   "execution_count": 210,
   "metadata": {},
   "outputs": [],
   "source": [
    "# Data preprocessing  \n",
    "#importing the libraries\n",
    "\n",
    "import pandas as pd\n",
    "import matplotlib.pyplot as plt\n",
    "import numpy as np"
   ]
  },
  {
   "cell_type": "code",
   "execution_count": 211,
   "metadata": {},
   "outputs": [],
   "source": [
    "#importing the dataset\n",
    "data = pd.read_csv('data.csv', header=None)"
   ]
  },
  {
   "cell_type": "code",
   "execution_count": 212,
   "metadata": {},
   "outputs": [],
   "source": [
    "#rename columns\n",
    "d = data.copy()\n",
    "d.columns = [\"q{}\".format(i+1) for i in range(len(d.columns))]\n",
    "columns_real = [\"q309\", \"q311\", \"q319\", \"q24\", \"q298\", \"q165\", \"q25\", \"q2\", \"q62\"] #\"q119\"]\n",
    "names = {\n",
    "    \"q309\": \"Sex\", \"q165\": \"Religion\",\n",
    "    \"q311\": \"Age\", \"q319\": \"Education\",\n",
    "    \"q24\": \"Satisfaction_with_life\",\n",
    "    \"q25\": \"Interpersonal_trust\",\n",
    "    \"q298\": \"Employment_status\",\n",
    "    \"q2\": \"Country\",\n",
    "    \"q62\": \"Satisfaction_with_financial_situation_of_household\",\n",
    "    #\"q119\": \"Trust_the_government\"\n",
    "}\n",
    "columns_real_new = [names.get(x, x) for x in columns_real]\n",
    "d = d[columns_real]\n",
    "d = d.rename(columns=names)"
   ]
  },
  {
   "cell_type": "code",
   "execution_count": 213,
   "metadata": {},
   "outputs": [
    {
     "data": {
      "text/html": [
       "<div>\n",
       "<style scoped>\n",
       "    .dataframe tbody tr th:only-of-type {\n",
       "        vertical-align: middle;\n",
       "    }\n",
       "\n",
       "    .dataframe tbody tr th {\n",
       "        vertical-align: top;\n",
       "    }\n",
       "\n",
       "    .dataframe thead th {\n",
       "        text-align: right;\n",
       "    }\n",
       "</style>\n",
       "<table border=\"1\" class=\"dataframe\">\n",
       "  <thead>\n",
       "    <tr style=\"text-align: right;\">\n",
       "      <th></th>\n",
       "      <th>Sex</th>\n",
       "      <th>Age</th>\n",
       "      <th>Education</th>\n",
       "      <th>Satisfaction_with_life</th>\n",
       "      <th>Employment_status</th>\n",
       "      <th>Religion</th>\n",
       "      <th>Interpersonal_trust</th>\n",
       "      <th>Country</th>\n",
       "      <th>Satisfaction_with_financial_situation_of_household</th>\n",
       "    </tr>\n",
       "  </thead>\n",
       "  <tbody>\n",
       "    <tr>\n",
       "      <th>count</th>\n",
       "      <td>78964.000000</td>\n",
       "      <td>78964.000000</td>\n",
       "      <td>78964.000000</td>\n",
       "      <td>78964.000000</td>\n",
       "      <td>78964.000000</td>\n",
       "      <td>78964.000000</td>\n",
       "      <td>78964.000000</td>\n",
       "      <td>78964.000000</td>\n",
       "      <td>78964.000000</td>\n",
       "    </tr>\n",
       "    <tr>\n",
       "      <th>mean</th>\n",
       "      <td>1.520022</td>\n",
       "      <td>42.051631</td>\n",
       "      <td>5.652576</td>\n",
       "      <td>6.850134</td>\n",
       "      <td>3.398663</td>\n",
       "      <td>0.811927</td>\n",
       "      <td>1.752647</td>\n",
       "      <td>473.172294</td>\n",
       "      <td>5.898143</td>\n",
       "    </tr>\n",
       "    <tr>\n",
       "      <th>std</th>\n",
       "      <td>0.499602</td>\n",
       "      <td>16.504042</td>\n",
       "      <td>2.413748</td>\n",
       "      <td>2.258310</td>\n",
       "      <td>2.148131</td>\n",
       "      <td>0.390773</td>\n",
       "      <td>0.431476</td>\n",
       "      <td>241.490487</td>\n",
       "      <td>2.449861</td>\n",
       "    </tr>\n",
       "    <tr>\n",
       "      <th>min</th>\n",
       "      <td>1.000000</td>\n",
       "      <td>16.000000</td>\n",
       "      <td>1.000000</td>\n",
       "      <td>1.000000</td>\n",
       "      <td>1.000000</td>\n",
       "      <td>0.000000</td>\n",
       "      <td>1.000000</td>\n",
       "      <td>12.000000</td>\n",
       "      <td>1.000000</td>\n",
       "    </tr>\n",
       "    <tr>\n",
       "      <th>25%</th>\n",
       "      <td>1.000000</td>\n",
       "      <td>28.000000</td>\n",
       "      <td>4.000000</td>\n",
       "      <td>5.000000</td>\n",
       "      <td>1.000000</td>\n",
       "      <td>1.000000</td>\n",
       "      <td>2.000000</td>\n",
       "      <td>276.000000</td>\n",
       "      <td>4.000000</td>\n",
       "    </tr>\n",
       "    <tr>\n",
       "      <th>50%</th>\n",
       "      <td>2.000000</td>\n",
       "      <td>40.000000</td>\n",
       "      <td>6.000000</td>\n",
       "      <td>7.000000</td>\n",
       "      <td>3.000000</td>\n",
       "      <td>1.000000</td>\n",
       "      <td>2.000000</td>\n",
       "      <td>458.000000</td>\n",
       "      <td>6.000000</td>\n",
       "    </tr>\n",
       "    <tr>\n",
       "      <th>75%</th>\n",
       "      <td>2.000000</td>\n",
       "      <td>54.000000</td>\n",
       "      <td>8.000000</td>\n",
       "      <td>8.000000</td>\n",
       "      <td>5.000000</td>\n",
       "      <td>1.000000</td>\n",
       "      <td>2.000000</td>\n",
       "      <td>702.000000</td>\n",
       "      <td>8.000000</td>\n",
       "    </tr>\n",
       "    <tr>\n",
       "      <th>max</th>\n",
       "      <td>2.000000</td>\n",
       "      <td>99.000000</td>\n",
       "      <td>9.000000</td>\n",
       "      <td>10.000000</td>\n",
       "      <td>8.000000</td>\n",
       "      <td>1.000000</td>\n",
       "      <td>2.000000</td>\n",
       "      <td>887.000000</td>\n",
       "      <td>10.000000</td>\n",
       "    </tr>\n",
       "  </tbody>\n",
       "</table>\n",
       "</div>"
      ],
      "text/plain": [
       "                Sex           Age     Education  Satisfaction_with_life  \\\n",
       "count  78964.000000  78964.000000  78964.000000            78964.000000   \n",
       "mean       1.520022     42.051631      5.652576                6.850134   \n",
       "std        0.499602     16.504042      2.413748                2.258310   \n",
       "min        1.000000     16.000000      1.000000                1.000000   \n",
       "25%        1.000000     28.000000      4.000000                5.000000   \n",
       "50%        2.000000     40.000000      6.000000                7.000000   \n",
       "75%        2.000000     54.000000      8.000000                8.000000   \n",
       "max        2.000000     99.000000      9.000000               10.000000   \n",
       "\n",
       "       Employment_status      Religion  Interpersonal_trust       Country  \\\n",
       "count       78964.000000  78964.000000         78964.000000  78964.000000   \n",
       "mean            3.398663      0.811927             1.752647    473.172294   \n",
       "std             2.148131      0.390773             0.431476    241.490487   \n",
       "min             1.000000      0.000000             1.000000     12.000000   \n",
       "25%             1.000000      1.000000             2.000000    276.000000   \n",
       "50%             3.000000      1.000000             2.000000    458.000000   \n",
       "75%             5.000000      1.000000             2.000000    702.000000   \n",
       "max             8.000000      1.000000             2.000000    887.000000   \n",
       "\n",
       "       Satisfaction_with_financial_situation_of_household  \n",
       "count                                       78964.000000   \n",
       "mean                                            5.898143   \n",
       "std                                             2.449861   \n",
       "min                                             1.000000   \n",
       "25%                                             4.000000   \n",
       "50%                                             6.000000   \n",
       "75%                                             8.000000   \n",
       "max                                            10.000000   "
      ]
     },
     "execution_count": 213,
     "metadata": {},
     "output_type": "execute_result"
    }
   ],
   "source": [
    "#removing missing values (less than -1)\n",
    "d = d.dropna()\n",
    "for column in columns_real_new:\n",
    "     d = d[d[column] > -1]\n",
    "d[\"Religion\"] = d[\"Religion\"].apply(lambda x: 1 if x > 0 else x)\n",
    "d.describe()"
   ]
  },
  {
   "cell_type": "code",
   "execution_count": 214,
   "metadata": {},
   "outputs": [],
   "source": [
    "#defining countries \n",
    "countries = \"\"\"\n",
    "     -5 'Missing; Unknown'\n",
    "     -4 'Not asked in survey'\n",
    "     -3 'Not applicable'\n",
    "     -2 'No answer'\n",
    "     -1 'Don't know'\n",
    "     4 'Afghanistan'\n",
    "     8 'Albania'\n",
    "     12 'Algeria'\n",
    "     16 'American Samoa'\n",
    "     20 'Andorra'\n",
    "     24 'Angola'\n",
    "     28 'Antigua'\n",
    "     31 'Azerbaijan'\n",
    "     32 'Argentina'\n",
    "     36 'Australia'\n",
    "     40 'Austria'\n",
    "     48 'Bahrain'\n",
    "     50 'Bangladesh'\n",
    "     51 'Armenia'\n",
    "     52 'Barbados'\n",
    "     56 'Belgium'\n",
    "     60 'Bermuda'\n",
    "     64 'Bhutan'\n",
    "     68 'Bolivia'\n",
    "     70 'Bosnia Herzegovina'\n",
    "     72 'Botswana'\n",
    "     76 'Brazil'\n",
    "     84 'Belize'\n",
    "     100 'Bulgaria'\n",
    "     101 'SrpSka Republic'\n",
    "     104 'Myanmar'\n",
    "     108 'Burundi'\n",
    "     112 'Belarus'\n",
    "     116 'Cambodia'\n",
    "     120 'Cameroon'\n",
    "     124 'Canada'\n",
    "     132 'Cape Verde'\n",
    "     144 'Sri Lanka'\n",
    "     148 'Chad'\n",
    "     152 'Chile'\n",
    "     156 'China'\n",
    "     158 'Taiwan'\n",
    "     170 'Colombia'\n",
    "     180 'D.R. Congo'\n",
    "     184 'Cook Islands'\n",
    "     188 'Costa Rica'\n",
    "     191 'Croatia'\n",
    "     192 'Cuba'\n",
    "     196 'Cyprus'\n",
    "     197 'Cyprus (T)'\n",
    "     203 'Czech Rep.'\n",
    "     204 'Benin'\n",
    "     208 'Denmark'\n",
    "     214 'Dominican Rep.'\n",
    "     218 'Ecuador'\n",
    "     222 'El Salvador'\n",
    "     226 'Eq.Guinea'\n",
    "     231 'Ethiopia'\n",
    "     232 'Eritrea'\n",
    "     233 'Estonia'\n",
    "     246 'Finland'\n",
    "     250 'France'\n",
    "     268 'Georgia'\n",
    "     270 'Gambia'\n",
    "     275 'Palestine'\n",
    "     276 'Germany'\n",
    "     288 'Ghana'\n",
    "     292 'Gibraltar'\n",
    "     300 'Greece'\n",
    "     320 'Guatemala'\n",
    "     324 'Guinea'\n",
    "     328 'Guyana'\n",
    "     332 'Haiti'\n",
    "     340 'Honduras'\n",
    "     344 'Hong Kong'\n",
    "     348 'Hungary'\n",
    "     352 'Iceland'\n",
    "     356 'India'\n",
    "     360 'Indonesia'\n",
    "     364 'Iran'\n",
    "     368 'Iraq'\n",
    "     372 'Ireland'\n",
    "     376 'Israel'\n",
    "     380 'Italy'\n",
    "     384 'Côte d'Ivoire'\n",
    "     388 'Jamaica'\n",
    "     392 'Japan'\n",
    "     398 'Kazakhstan'\n",
    "     400 'Jordan'\n",
    "     404 'Kenya'\n",
    "     408 'North Korea'\n",
    "     410 'South Korea'\n",
    "     414 'Kuwait'\n",
    "     417 'Kyrgyzstan'\n",
    "     418 'Laos'\n",
    "     422 'Lebanon'\n",
    "     426 'Lesotho'\n",
    "     428 'Latvia'\n",
    "     430 'Liberia'\n",
    "     434 'Libya'\n",
    "     438 'Liechtenstein'\n",
    "     440 'Lithuania'\n",
    "     442 'Luxembourg'\n",
    "     450 'Madagascar'\n",
    "     454 'Malawi'\n",
    "     458 'Malaysia'\n",
    "     466 'Mali'\n",
    "     470 'Malta'\n",
    "     474 'Martinique'\n",
    "     478 'Mauritania'\n",
    "     480 'Mauritius'\n",
    "     484 'Mexico'\n",
    "     492 'Monaco'\n",
    "     496 'Mongolia'\n",
    "     498 'Moldova'\n",
    "     499 'Montenegro'\n",
    "     504 'Morocco'\n",
    "     508 'Mozambique'\n",
    "     512 'Oman'\n",
    "     516 'Namibia'\n",
    "     524 'Nepal'\n",
    "     528 'Netherlands'\n",
    "     554 'New Zealand'\n",
    "     558 'Nicaragua'\n",
    "     562 'Niger'\n",
    "     566 'Nigeria'\n",
    "     578 'Norway'\n",
    "     586 'Pakistan'\n",
    "     591 'Panama'\n",
    "     598 'Papua New Guinea'\n",
    "     600 'Paraguay'\n",
    "     604 'Peru'\n",
    "     608 'Philippines'\n",
    "     616 'Poland'\n",
    "     620 'Portugal'\n",
    "     624 'Guinea-Bissau'\n",
    "     626 'Timor-Leste'\n",
    "     630 'Puerto Rico'\n",
    "     634 'Qatar'\n",
    "     642 'Romania'\n",
    "     643 'Russia'\n",
    "     646 'Rwanda'\n",
    "     682 'Saudi Arabia'\n",
    "     686 'Senegal'\n",
    "     688 'Serbia'\n",
    "     690 'Seychelles'\n",
    "     694 'Sierra Leone'\n",
    "     702 'Singapore'\n",
    "     703 'Slovakia'\n",
    "     704 'Viet Nam'\n",
    "     705 'Slovenia'\n",
    "     706 'Somalia'\n",
    "     710 'South Africa'\n",
    "     716 'Zimbabwe'\n",
    "     724 'Spain'\n",
    "     736 'Sudan'\n",
    "     740 'Suriname'\n",
    "     748 'Swaziland'\n",
    "     752 'Sweden'\n",
    "     756 'Switzerland'\n",
    "     760 'Syria'\n",
    "     762 'Tajikistan'\n",
    "     764 'Thailand'\n",
    "     768 'Togo'\n",
    "     780 'Trinidad and Tobago'\n",
    "     784 'United Arab Emirates'\n",
    "     788 'Tunisia'\n",
    "     792 'Turkey'\n",
    "     795 'Turkmenistan'\n",
    "     800 'Uganda'\n",
    "     804 'Ukraine'\n",
    "     807 'Macedonia'\n",
    "     818 'Egypt'\n",
    "     826 'United Kingdom'\n",
    "     834 'Tanzania'\n",
    "     840 'United States'\n",
    "     850 'U.S. Virgin Islands'\n",
    "     854 'Burkina Faso'\n",
    "     858 'Uruguay'\n",
    "     860 'Uzbekistan'\n",
    "     862 'Venezuela'\n",
    "     887 'Yemen'\n",
    "     891 'Serbia and Montenegro'\n",
    "     894 'Zambia'\n",
    "     900 'West Germany'\n",
    "     901 'East Germany'\n",
    "     902 'Tambov'\n",
    "     903 'Moscow'\n",
    "     904 'Basque Country'\n",
    "     906 'Andalusia'\n",
    "     907 'Galicia'\n",
    "     908 'Great Britain'\n",
    "     909 'North Ireland'\n",
    "     910 'Valencia'\n",
    "     911 'Serbia'\n",
    "     912 'Montenegro'\n",
    "     913 'Serbian Bosnia'\n",
    "     914 'Bosnia'\n",
    "     915 'Kosovo'\n",
    "     916 'Flanders-Belgium'\n",
    "     917 'Israel (Jews)'\n",
    "     918 'Israel (Arabs)'\n",
    "\"\"\""
   ]
  },
  {
   "cell_type": "code",
   "execution_count": 215,
   "metadata": {},
   "outputs": [],
   "source": [
    "#convert country string into a dictionary\n",
    "import re\n",
    "countries = countries.split('\\n')\n",
    "countries = [x.strip() for x in countries if x]\n",
    "country_re = r\"([\\-]{0,1}[0-9]+)[ ]*\\'(.*)\\'\"\n",
    "countries = [re.findall(country_re, x)[0] for x in countries]\n",
    "countries = {int(k): v for k, v in countries}"
   ]
  },
  {
   "cell_type": "code",
   "execution_count": 216,
   "metadata": {},
   "outputs": [],
   "source": [
    "#definig regions\n",
    "africa = \"\"\"Burundi\n",
    "Comoros\n",
    "Djibouti\n",
    "Eritrea\n",
    "Libya\n",
    "Ethiopia\n",
    "Kenya\n",
    "Cook Islands\n",
    "Madagascar\n",
    "Malawi\n",
    "Mauritius\n",
    "Mayotte\n",
    "Mozambique\n",
    "Reunion\n",
    "Rwanda\n",
    "Seychelles\n",
    "Somalia\n",
    "Tanzania, United Republic of\n",
    "Uganda\n",
    "Zambia\n",
    "Zimbabwe\n",
    "Angola\n",
    "Cameroon\n",
    "Central African Republic\n",
    "Chad\n",
    "Congo\n",
    "D.R. Congo\n",
    "Eq.Guinea\n",
    "Gabon\n",
    "Sao Tome and Principe\n",
    "Algeria\n",
    "Egypt\n",
    "Libyan Arab Jamahiriya\n",
    "Morroco\n",
    "Côte d'Ivoire\n",
    "South Sudan\n",
    "Sudan\n",
    "Tunisia\n",
    "Western Sahara\n",
    "Botswana\n",
    "Eswatini\n",
    "Lesotho\n",
    "Namibia\n",
    "South Africa\n",
    "Benin\n",
    "Burkina Faso\n",
    "Cape Verde\n",
    "Cote d'Ivoire\n",
    "Gambia\n",
    "Ghana\n",
    "Guinea\n",
    "Guinea-Bissau\n",
    "Liberia\n",
    "Mali\n",
    "Mauritania\n",
    "Niger\n",
    "Nigeria\n",
    "Tanzania\n",
    "Morocco\n",
    "Saint Helena\n",
    "Senegal\n",
    "Sierra Leone\n",
    "Swaziland\n",
    "Togo\"\"\".split(\"\\n\")\n",
    "africa\n",
    "carribean = \"\"\"Anguilla\n",
    "Antigua\n",
    "Aruba\n",
    "Bahamas\n",
    "Barbados\n",
    "Bonaire, Saint Eustatius and Saba\n",
    "British Virgin Islands\n",
    "Cayman Islands\n",
    "Cuba\n",
    "Curaçao\n",
    "Dominica\n",
    "Dominican Rep.\n",
    "Grenada\n",
    "Guadeloupe\n",
    "Haiti\n",
    "Jamaica\n",
    "U.S. Virgin Islands\n",
    "Martinique\n",
    "Monserrat\n",
    "Puerto Rico\n",
    "Saint-Barthélemy\n",
    "St. Kitts and Nevis\n",
    "Saint Lucia\n",
    "Saint Martin\n",
    "Saint Vincent and the Grenadines\n",
    "Sint Maarten\n",
    "Trinidad and Tobago\n",
    "Turks and Caicos Islands\n",
    "Virgin Islands\"\"\".split(\"\\n\")\n",
    "carribean\n",
    "camerica = \"\"\"Belize\n",
    "Costa Rica\n",
    "El Salvador\n",
    "Guatemala\n",
    "Honduras\n",
    "Mexico\n",
    "Nicaragua\n",
    "Panama\"\"\".split(\"\\n\")\n",
    "camerica\n",
    "samerica = \"\"\"Argentina\n",
    "Bolivia\n",
    "Brazil\n",
    "Chile\n",
    "Colombia\n",
    "Ecuador\n",
    "Falkland Islands\n",
    "French Guiana\n",
    "Guyana\n",
    "Paraguay\n",
    "Peru\n",
    "Suriname\n",
    "Uruguay\n",
    "Venezuela\"\"\".split(\"\\n\")\n",
    "samerica\n",
    "namerica = \"\"\"Bermuda\n",
    "Canada\n",
    "Greenland\n",
    "Saint Pierre and Miquelon\n",
    "United States\"\"\".split(\"\\n\")\n",
    "namerica\n",
    "asia = \"\"\"Afghanistan\n",
    "Armenia\n",
    "Azerbaijan\n",
    "Bangladesh\n",
    "Bhutan\n",
    "Brunei Darussalam\n",
    "Cambodia\n",
    "China\n",
    "Georgia\n",
    "Hong Kong\n",
    "India\n",
    "Indonesia\n",
    "Japan\n",
    "Kazakhstan\n",
    "North Korea\n",
    "South Korea\n",
    "Kyrgyzstan\n",
    "Laos\n",
    "Macao\n",
    "Malaysia\n",
    "Maldives\n",
    "Mongolia\n",
    "Myanmar\n",
    "Nepal\n",
    "Pakistan\n",
    "Phillipines\n",
    "Philippines\n",
    "Singapore\n",
    "Sri Lanka\n",
    "Taiwan\n",
    "Timor-Leste\n",
    "Tajikistan\n",
    "Thailand\n",
    "Timor Leste\n",
    "Turkmenistan\n",
    "Viet Nam\n",
    "Uzbekistan\n",
    "Vietnam \"\"\".split(\"\\n\")\n",
    "asia\n",
    "europe = \"\"\"Albania\n",
    "Andorra\n",
    "Belarus\n",
    "Bosnia Herzegovina\n",
    "Bosnia\n",
    "Croatia\n",
    "Faroe Islands\n",
    "Gibraltar\n",
    "Guerney and Alderney\n",
    "Iceland\n",
    "Jersey\n",
    "North Ireland\n",
    "Kosovo\n",
    "Liechtenstein\n",
    "Man, Island of\n",
    "Moldova\n",
    "Monaco\n",
    "Montenegro\n",
    "North Macedonia\n",
    "Norway\n",
    "Russia\n",
    "San Marino\n",
    "SrpSka Republic\n",
    "Serbia\n",
    "Svalbard and Jan Mayen Islands\n",
    "Switzerland\n",
    "Turkey\n",
    "Ukraine\n",
    "United Kingdom\n",
    "Vatican City State\n",
    "Austria\n",
    "Belgium\n",
    "Bulgaria\n",
    "Cyprus\n",
    "Cyprus (T)\n",
    "Czech Rep.\n",
    "Denmark\n",
    "Estonia\n",
    "Finland\n",
    "France\n",
    "Germany\n",
    "West Germany\n",
    "East Germany\n",
    "Greece\n",
    "Hungary\n",
    "Ireland\n",
    "Italy\n",
    "Latvia\n",
    "Lithuania\n",
    "Luxembourg\n",
    "Malta\n",
    "Netherlands\n",
    "Macedonia\n",
    "Poland\n",
    "Portugal\n",
    "Great Britain\n",
    "Romania\n",
    "Slovakia\n",
    "Slovenia\n",
    "Serbia and Montenegro\n",
    "Spain\n",
    "Valencia\n",
    "Galicia\n",
    "Andalusia\n",
    "Flanders-Belgium\n",
    "Basque Country\n",
    "Serbian Bosnia\n",
    "Tambov\n",
    "Moscow\n",
    "Sweden\"\"\".split(\"\\n\")\n",
    "europe\n",
    "mideast = \"\"\"Bahrain\n",
    "Iraq\n",
    "Iran\n",
    "Israel (Jews)\n",
    "Israel (Arabs)\n",
    "Israel\n",
    "Jordan\n",
    "Kuwait\n",
    "Lebanon\n",
    "Oman\n",
    "Palestine\n",
    "Qatar\n",
    "Saudi Arabia\n",
    "Syria\n",
    "United Arab Emirates\n",
    "Yemen\"\"\".split(\"\\n\")\n",
    "mideast\n",
    "oceania = \"\"\"Australia\n",
    "Fiji\n",
    "French Polynesia\n",
    "Guam\n",
    "Kiribati\n",
    "Marshall Islands\n",
    "Micronesia\n",
    "New Caledonia\n",
    "New Zealand\n",
    "Papua New Guinea\n",
    "Samoa\n",
    "American Samoa\n",
    "Solomon, Islands\n",
    "Tonga\n",
    "Vanuatu\"\"\".split(\"\\n\")\n",
    "oceania\n",
    "regions = {'Africa': africa, 'Carribean': carribean, 'Central America': camerica, 'South America': samerica, 'Northern America': namerica, 'Asia': asia, 'Europe': europe, 'Middle East': mideast, 'Oceania': oceania}"
   ]
  },
  {
   "cell_type": "code",
   "execution_count": 217,
   "metadata": {},
   "outputs": [],
   "source": [
    "#adding region column\n",
    "country_to_region = {\n",
    "    c: r\n",
    "    for r, c_l in regions.items()\n",
    "    for c in c_l\n",
    "}\n",
    "int_country_to_region = {k: f\"Country_{country_to_region.get(c)}\" for k, c in countries.items()}\n",
    "d[\"Region\"] = d[\"Country\"].apply(int_country_to_region.get)"
   ]
  },
  {
   "cell_type": "code",
   "execution_count": 218,
   "metadata": {},
   "outputs": [],
   "source": [
    "#transforming region into wide format\n",
    "from sklearn.preprocessing import OneHotEncoder\n",
    "enc = OneHotEncoder()\n",
    "reg_encoded = enc.fit_transform(d[[\"Region\"]])\n",
    "reg_encoded = pd.DataFrame(\n",
    "    reg_encoded.toarray(),\n",
    "    columns=enc.categories_[0]\n",
    ")\n",
    "d2 = pd.concat([d.reset_index(), reg_encoded], axis=1)\n",
    "\n",
    "d2 = d2.drop(columns=[\"Country\", \"Region\", \"index\"])"
   ]
  },
  {
   "cell_type": "code",
   "execution_count": 219,
   "metadata": {},
   "outputs": [
    {
     "data": {
      "text/html": [
       "<div>\n",
       "<style scoped>\n",
       "    .dataframe tbody tr th:only-of-type {\n",
       "        vertical-align: middle;\n",
       "    }\n",
       "\n",
       "    .dataframe tbody tr th {\n",
       "        vertical-align: top;\n",
       "    }\n",
       "\n",
       "    .dataframe thead th {\n",
       "        text-align: right;\n",
       "    }\n",
       "</style>\n",
       "<table border=\"1\" class=\"dataframe\">\n",
       "  <thead>\n",
       "    <tr style=\"text-align: right;\">\n",
       "      <th></th>\n",
       "      <th>Sex</th>\n",
       "      <th>Age</th>\n",
       "      <th>Education</th>\n",
       "      <th>Satisfaction_with_life</th>\n",
       "      <th>Employment_status</th>\n",
       "      <th>Religion</th>\n",
       "      <th>Interpersonal_trust</th>\n",
       "      <th>Satisfaction_with_financial_situation_of_household</th>\n",
       "      <th>Country_Africa</th>\n",
       "      <th>Country_Asia</th>\n",
       "      <th>Country_Carribean</th>\n",
       "      <th>Country_Central America</th>\n",
       "      <th>Country_Europe</th>\n",
       "      <th>Country_Middle East</th>\n",
       "      <th>Country_Northern America</th>\n",
       "      <th>Country_Oceania</th>\n",
       "      <th>Country_South America</th>\n",
       "    </tr>\n",
       "  </thead>\n",
       "  <tbody>\n",
       "    <tr>\n",
       "      <th>count</th>\n",
       "      <td>78964.000000</td>\n",
       "      <td>78964.000000</td>\n",
       "      <td>78964.000000</td>\n",
       "      <td>78964.000000</td>\n",
       "      <td>78964.000000</td>\n",
       "      <td>78964.000000</td>\n",
       "      <td>78964.000000</td>\n",
       "      <td>78964.000000</td>\n",
       "      <td>78964.000000</td>\n",
       "      <td>78964.000000</td>\n",
       "      <td>78964.000000</td>\n",
       "      <td>78964.000000</td>\n",
       "      <td>78964.000000</td>\n",
       "      <td>78964.000000</td>\n",
       "      <td>78964.000000</td>\n",
       "      <td>78964.000000</td>\n",
       "      <td>78964.000000</td>\n",
       "    </tr>\n",
       "    <tr>\n",
       "      <th>mean</th>\n",
       "      <td>0.479978</td>\n",
       "      <td>42.051631</td>\n",
       "      <td>5.652576</td>\n",
       "      <td>6.850134</td>\n",
       "      <td>3.398663</td>\n",
       "      <td>0.811927</td>\n",
       "      <td>0.247353</td>\n",
       "      <td>5.898143</td>\n",
       "      <td>0.187136</td>\n",
       "      <td>0.337382</td>\n",
       "      <td>0.012347</td>\n",
       "      <td>0.025151</td>\n",
       "      <td>0.233144</td>\n",
       "      <td>0.065156</td>\n",
       "      <td>0.027202</td>\n",
       "      <td>0.022187</td>\n",
       "      <td>0.090294</td>\n",
       "    </tr>\n",
       "    <tr>\n",
       "      <th>std</th>\n",
       "      <td>0.499602</td>\n",
       "      <td>16.504042</td>\n",
       "      <td>2.413748</td>\n",
       "      <td>2.258310</td>\n",
       "      <td>2.148131</td>\n",
       "      <td>0.390773</td>\n",
       "      <td>0.431476</td>\n",
       "      <td>2.449861</td>\n",
       "      <td>0.390023</td>\n",
       "      <td>0.472819</td>\n",
       "      <td>0.110431</td>\n",
       "      <td>0.156584</td>\n",
       "      <td>0.422836</td>\n",
       "      <td>0.246803</td>\n",
       "      <td>0.162673</td>\n",
       "      <td>0.147293</td>\n",
       "      <td>0.286605</td>\n",
       "    </tr>\n",
       "    <tr>\n",
       "      <th>min</th>\n",
       "      <td>0.000000</td>\n",
       "      <td>16.000000</td>\n",
       "      <td>1.000000</td>\n",
       "      <td>1.000000</td>\n",
       "      <td>1.000000</td>\n",
       "      <td>0.000000</td>\n",
       "      <td>0.000000</td>\n",
       "      <td>1.000000</td>\n",
       "      <td>0.000000</td>\n",
       "      <td>0.000000</td>\n",
       "      <td>0.000000</td>\n",
       "      <td>0.000000</td>\n",
       "      <td>0.000000</td>\n",
       "      <td>0.000000</td>\n",
       "      <td>0.000000</td>\n",
       "      <td>0.000000</td>\n",
       "      <td>0.000000</td>\n",
       "    </tr>\n",
       "    <tr>\n",
       "      <th>25%</th>\n",
       "      <td>0.000000</td>\n",
       "      <td>28.000000</td>\n",
       "      <td>4.000000</td>\n",
       "      <td>5.000000</td>\n",
       "      <td>1.000000</td>\n",
       "      <td>1.000000</td>\n",
       "      <td>0.000000</td>\n",
       "      <td>4.000000</td>\n",
       "      <td>0.000000</td>\n",
       "      <td>0.000000</td>\n",
       "      <td>0.000000</td>\n",
       "      <td>0.000000</td>\n",
       "      <td>0.000000</td>\n",
       "      <td>0.000000</td>\n",
       "      <td>0.000000</td>\n",
       "      <td>0.000000</td>\n",
       "      <td>0.000000</td>\n",
       "    </tr>\n",
       "    <tr>\n",
       "      <th>50%</th>\n",
       "      <td>0.000000</td>\n",
       "      <td>40.000000</td>\n",
       "      <td>6.000000</td>\n",
       "      <td>7.000000</td>\n",
       "      <td>3.000000</td>\n",
       "      <td>1.000000</td>\n",
       "      <td>0.000000</td>\n",
       "      <td>6.000000</td>\n",
       "      <td>0.000000</td>\n",
       "      <td>0.000000</td>\n",
       "      <td>0.000000</td>\n",
       "      <td>0.000000</td>\n",
       "      <td>0.000000</td>\n",
       "      <td>0.000000</td>\n",
       "      <td>0.000000</td>\n",
       "      <td>0.000000</td>\n",
       "      <td>0.000000</td>\n",
       "    </tr>\n",
       "    <tr>\n",
       "      <th>75%</th>\n",
       "      <td>1.000000</td>\n",
       "      <td>54.000000</td>\n",
       "      <td>8.000000</td>\n",
       "      <td>8.000000</td>\n",
       "      <td>5.000000</td>\n",
       "      <td>1.000000</td>\n",
       "      <td>0.000000</td>\n",
       "      <td>8.000000</td>\n",
       "      <td>0.000000</td>\n",
       "      <td>1.000000</td>\n",
       "      <td>0.000000</td>\n",
       "      <td>0.000000</td>\n",
       "      <td>0.000000</td>\n",
       "      <td>0.000000</td>\n",
       "      <td>0.000000</td>\n",
       "      <td>0.000000</td>\n",
       "      <td>0.000000</td>\n",
       "    </tr>\n",
       "    <tr>\n",
       "      <th>max</th>\n",
       "      <td>1.000000</td>\n",
       "      <td>99.000000</td>\n",
       "      <td>9.000000</td>\n",
       "      <td>10.000000</td>\n",
       "      <td>8.000000</td>\n",
       "      <td>1.000000</td>\n",
       "      <td>1.000000</td>\n",
       "      <td>10.000000</td>\n",
       "      <td>1.000000</td>\n",
       "      <td>1.000000</td>\n",
       "      <td>1.000000</td>\n",
       "      <td>1.000000</td>\n",
       "      <td>1.000000</td>\n",
       "      <td>1.000000</td>\n",
       "      <td>1.000000</td>\n",
       "      <td>1.000000</td>\n",
       "      <td>1.000000</td>\n",
       "    </tr>\n",
       "  </tbody>\n",
       "</table>\n",
       "</div>"
      ],
      "text/plain": [
       "                Sex           Age     Education  Satisfaction_with_life  \\\n",
       "count  78964.000000  78964.000000  78964.000000            78964.000000   \n",
       "mean       0.479978     42.051631      5.652576                6.850134   \n",
       "std        0.499602     16.504042      2.413748                2.258310   \n",
       "min        0.000000     16.000000      1.000000                1.000000   \n",
       "25%        0.000000     28.000000      4.000000                5.000000   \n",
       "50%        0.000000     40.000000      6.000000                7.000000   \n",
       "75%        1.000000     54.000000      8.000000                8.000000   \n",
       "max        1.000000     99.000000      9.000000               10.000000   \n",
       "\n",
       "       Employment_status      Religion  Interpersonal_trust  \\\n",
       "count       78964.000000  78964.000000         78964.000000   \n",
       "mean            3.398663      0.811927             0.247353   \n",
       "std             2.148131      0.390773             0.431476   \n",
       "min             1.000000      0.000000             0.000000   \n",
       "25%             1.000000      1.000000             0.000000   \n",
       "50%             3.000000      1.000000             0.000000   \n",
       "75%             5.000000      1.000000             0.000000   \n",
       "max             8.000000      1.000000             1.000000   \n",
       "\n",
       "       Satisfaction_with_financial_situation_of_household  Country_Africa  \\\n",
       "count                                       78964.000000     78964.000000   \n",
       "mean                                            5.898143         0.187136   \n",
       "std                                             2.449861         0.390023   \n",
       "min                                             1.000000         0.000000   \n",
       "25%                                             4.000000         0.000000   \n",
       "50%                                             6.000000         0.000000   \n",
       "75%                                             8.000000         0.000000   \n",
       "max                                            10.000000         1.000000   \n",
       "\n",
       "       Country_Asia  Country_Carribean  Country_Central America  \\\n",
       "count  78964.000000       78964.000000             78964.000000   \n",
       "mean       0.337382           0.012347                 0.025151   \n",
       "std        0.472819           0.110431                 0.156584   \n",
       "min        0.000000           0.000000                 0.000000   \n",
       "25%        0.000000           0.000000                 0.000000   \n",
       "50%        0.000000           0.000000                 0.000000   \n",
       "75%        1.000000           0.000000                 0.000000   \n",
       "max        1.000000           1.000000                 1.000000   \n",
       "\n",
       "       Country_Europe  Country_Middle East  Country_Northern America  \\\n",
       "count    78964.000000         78964.000000              78964.000000   \n",
       "mean         0.233144             0.065156                  0.027202   \n",
       "std          0.422836             0.246803                  0.162673   \n",
       "min          0.000000             0.000000                  0.000000   \n",
       "25%          0.000000             0.000000                  0.000000   \n",
       "50%          0.000000             0.000000                  0.000000   \n",
       "75%          0.000000             0.000000                  0.000000   \n",
       "max          1.000000             1.000000                  1.000000   \n",
       "\n",
       "       Country_Oceania  Country_South America  \n",
       "count     78964.000000           78964.000000  \n",
       "mean          0.022187               0.090294  \n",
       "std           0.147293               0.286605  \n",
       "min           0.000000               0.000000  \n",
       "25%           0.000000               0.000000  \n",
       "50%           0.000000               0.000000  \n",
       "75%           0.000000               0.000000  \n",
       "max           1.000000               1.000000  "
      ]
     },
     "execution_count": 219,
     "metadata": {},
     "output_type": "execute_result"
    }
   ],
   "source": [
    "d2[\"Interpersonal_trust\"] = d2[\"Interpersonal_trust\"].apply(lambda x: 0 if x == 2 else x)\n",
    "# 2 is \"don;t trust\", then remap to 0 is don't trust and 1 is trust\n",
    "d2[\"Sex\"] = d2[\"Sex\"].apply(lambda x: 0 if x == 2 else x)\n",
    "# Set Female to 0, Male to 1\n",
    "d2.describe()"
   ]
  },
  {
   "cell_type": "code",
   "execution_count": 220,
   "metadata": {},
   "outputs": [],
   "source": [
    "#from pandas_profiling import ProfileReport\n",
    "#profile = ProfileReport(d5, title='Data Report', explorative=True)\n",
    "#profile.to_file('report_detailed.html')"
   ]
  },
  {
   "cell_type": "code",
   "execution_count": 221,
   "metadata": {},
   "outputs": [
    {
     "data": {
      "text/plain": [
       "<AxesSubplot:ylabel='Frequency'>"
      ]
     },
     "execution_count": 221,
     "metadata": {},
     "output_type": "execute_result"
    },
    {
     "data": {
      "image/png": "[encoded data removed]",
      "text/plain": [
       "<Figure size 432x288 with 1 Axes>"
      ]
     },
     "metadata": {
      "needs_background": "light"
     },
     "output_type": "display_data"
    }
   ],
   "source": [
    "# Age distribution\n",
    "d2['Age'].plot(kind = 'hist')"
   ]
  },
  {
   "cell_type": "code",
   "execution_count": 222,
   "metadata": {},
   "outputs": [
    {
     "data": {
      "text/plain": [
       "<AxesSubplot:ylabel='Frequency'>"
      ]
     },
     "execution_count": 222,
     "metadata": {},
     "output_type": "execute_result"
    },
    {
     "data": {
      "image/png": "[encoded data removed]",
      "text/plain": [
       "<Figure size 432x288 with 1 Axes>"
      ]
     },
     "metadata": {
      "needs_background": "light"
     },
     "output_type": "display_data"
    }
   ],
   "source": [
    "# Sex distribution\n",
    "d2['Sex'].plot(kind = 'hist')"
   ]
  },
  {
   "cell_type": "code",
   "execution_count": 223,
   "metadata": {},
   "outputs": [
    {
     "data": {
      "text/plain": [
       "<AxesSubplot:ylabel='Frequency'>"
      ]
     },
     "execution_count": 223,
     "metadata": {},
     "output_type": "execute_result"
    },
    {
     "data": {
      "image/png": "[encoded data removed]",
      "text/plain": [
       "<Figure size 432x288 with 1 Axes>"
      ]
     },
     "metadata": {
      "needs_background": "light"
     },
     "output_type": "display_data"
    }
   ],
   "source": [
    "# Education distribution\n",
    "d2['Education'].plot(kind = 'hist', bins=8)"
   ]
  },
  {
   "cell_type": "code",
   "execution_count": 224,
   "metadata": {},
   "outputs": [
    {
     "data": {
      "text/plain": [
       "<AxesSubplot:ylabel='Frequency'>"
      ]
     },
     "execution_count": 224,
     "metadata": {},
     "output_type": "execute_result"
    },
    {
     "data": {
      "image/png": "[encoded data removed]",
      "text/plain": [
       "<Figure size 432x288 with 1 Axes>"
      ]
     },
     "metadata": {
      "needs_background": "light"
     },
     "output_type": "display_data"
    }
   ],
   "source": [
    "#Satisfaction_with_life distribution\n",
    "d2['Satisfaction_with_life'].plot(kind = 'hist')"
   ]
  },
  {
   "cell_type": "code",
   "execution_count": 225,
   "metadata": {},
   "outputs": [
    {
     "data": {
      "text/plain": [
       "<AxesSubplot:ylabel='Frequency'>"
      ]
     },
     "execution_count": 225,
     "metadata": {},
     "output_type": "execute_result"
    },
    {
     "data": {
      "image/png": "[encoded data removed]",
      "text/plain": [
       "<Figure size 432x288 with 1 Axes>"
      ]
     },
     "metadata": {
      "needs_background": "light"
     },
     "output_type": "display_data"
    }
   ],
   "source": [
    "#Employment_status distribution\n",
    "d2['Employment_status'].plot(kind = 'hist')"
   ]
  },
  {
   "cell_type": "code",
   "execution_count": 226,
   "metadata": {},
   "outputs": [
    {
     "data": {
      "text/plain": [
       "<AxesSubplot:ylabel='Frequency'>"
      ]
     },
     "execution_count": 226,
     "metadata": {},
     "output_type": "execute_result"
    },
    {
     "data": {
      "image/png": "[encoded data removed]",
      "text/plain": [
       "<Figure size 432x288 with 1 Axes>"
      ]
     },
     "metadata": {
      "needs_background": "light"
     },
     "output_type": "display_data"
    }
   ],
   "source": [
    "#Religion distribution\n",
    "d['Religion'].plot(kind = 'hist')"
   ]
  },
  {
   "cell_type": "code",
   "execution_count": 227,
   "metadata": {},
   "outputs": [
    {
     "data": {
      "text/plain": [
       "<AxesSubplot:ylabel='Frequency'>"
      ]
     },
     "execution_count": 227,
     "metadata": {},
     "output_type": "execute_result"
    },
    {
     "data": {
      "image/png": "[encoded data removed]",
      "text/plain": [
       "<Figure size 432x288 with 1 Axes>"
      ]
     },
     "metadata": {
      "needs_background": "light"
     },
     "output_type": "display_data"
    }
   ],
   "source": [
    "#Satisfaction_with_financial_situation_of_household distribution\n",
    "d['Satisfaction_with_financial_situation_of_household'].plot(kind = 'hist')"
   ]
  },
  {
   "cell_type": "code",
   "execution_count": 228,
   "metadata": {},
   "outputs": [],
   "source": [
    "#Logistic regression"
   ]
  },
  {
   "cell_type": "code",
   "execution_count": 229,
   "metadata": {},
   "outputs": [],
   "source": [
    "#Splitting the dataset into the Training set and Test set\n",
    "X = d2[[c for c in d2.columns if c != \"Interpersonal_trust\"]]\n",
    "y = d2[\"Interpersonal_trust\"]\n",
    "from sklearn.model_selection import train_test_split\n",
    "X_train, X_test, y_train, y_test = train_test_split(X, y, test_size=0.2, random_state=0)"
   ]
  },
  {
   "cell_type": "code",
   "execution_count": 230,
   "metadata": {},
   "outputs": [],
   "source": [
    "from sklearn.preprocessing import StandardScaler\n",
    "sc_X = StandardScaler().fit(X_train)\n",
    "X_train = sc_X.transform(X_train)\n",
    "X_test = sc_X.transform(X_test)"
   ]
  },
  {
   "cell_type": "code",
   "execution_count": 231,
   "metadata": {},
   "outputs": [
    {
     "data": {
      "text/plain": [
       "Index(['Sex', 'Age', 'Education', 'Satisfaction_with_life',\n",
       "       'Employment_status', 'Religion',\n",
       "       'Satisfaction_with_financial_situation_of_household', 'Country_Africa',\n",
       "       'Country_Asia', 'Country_Carribean', 'Country_Central America',\n",
       "       'Country_Europe', 'Country_Middle East', 'Country_Northern America',\n",
       "       'Country_Oceania', 'Country_South America'],\n",
       "      dtype='object')"
      ]
     },
     "execution_count": 231,
     "metadata": {},
     "output_type": "execute_result"
    }
   ],
   "source": [
    "d2[[c for c in d2.columns if c != \"Interpersonal_trust\"]].columns"
   ]
  },
  {
   "cell_type": "code",
   "execution_count": 232,
   "metadata": {},
   "outputs": [],
   "source": [
    "X_train1 =X_train\n",
    "X_test1 =X_test"
   ]
  },
  {
   "cell_type": "code",
   "execution_count": 233,
   "metadata": {},
   "outputs": [
    {
     "name": "stdout",
     "output_type": "stream",
     "text": [
      "Warning: Maximum number of iterations has been exceeded.\n",
      "         Current function value: 0.661317\n",
      "         Iterations: 2000\n",
      "                           Results: Logit\n",
      "====================================================================\n",
      "Model:              Logit               Pseudo R-squared: -0.182    \n",
      "Dependent Variable: Interpersonal_trust AIC:              83582.1565\n",
      "Date:               2020-12-16 23:21    BIC:              83717.9605\n",
      "No. Observations:   63171               Log-Likelihood:   -41776.   \n",
      "Df Model:           14                  LL-Null:          -35344.   \n",
      "Df Residuals:       63156               LLR p-value:      1.0000    \n",
      "Converged:          0.0000              Scale:            1.0000    \n",
      "No. Iterations:     2000.0000                                       \n",
      "--------------------------------------------------------------------\n",
      "       Coef.    Std.Err.     z     P>|z|      [0.025       0.975]   \n",
      "--------------------------------------------------------------------\n",
      "x1    -0.0017      0.0083  -0.2050 0.8376       -0.0181       0.0146\n",
      "x2     0.0796      0.0089   8.9855 0.0000        0.0622       0.0969\n",
      "x3     0.0918      0.0089  10.3074 0.0000        0.0744       0.1093\n",
      "x4     0.0722      0.0095   7.6302 0.0000        0.0536       0.0907\n",
      "x5    -0.0445      0.0085  -5.2177 0.0000       -0.0613      -0.0278\n",
      "x6    -0.2276      0.0087 -26.2537 0.0000       -0.2446      -0.2106\n",
      "x7     0.1223      0.0094  13.0790 0.0000        0.1040       0.1407\n",
      "x8    -0.0965 502655.2433  -0.0000 1.0000  -985186.2701  985186.0771\n",
      "x9     0.0783 608941.7938   0.0000 1.0000 -1193503.9063 1193504.0630\n",
      "x10   -0.0936 143974.5538  -0.0000 1.0000  -282185.0338  282184.8466\n",
      "x11   -0.0875 202239.1617  -0.0000 1.0000  -396381.5608  396381.3858\n",
      "x12    0.0954 543261.3824   0.0000 1.0000 -1064772.6482 1064772.8390\n",
      "x13    0.0368 316800.2705   0.0000 1.0000  -620917.0836  620917.1572\n",
      "x14    0.0573 210490.3479   0.0000 1.0000  -412553.4437  412553.5583\n",
      "x15    0.1929 187679.6452   0.0000 1.0000  -367845.1524  367845.5381\n",
      "x16   -0.2159 370355.4094  -0.0000 1.0000  -725883.4799  725883.0481\n",
      "====================================================================\n",
      "\n"
     ]
    },
    {
     "name": "stderr",
     "output_type": "stream",
     "text": [
      "c:\\users\\masta\\miniconda3\\envs\\data_analysis\\lib\\site-packages\\statsmodels\\base\\model.py:568: ConvergenceWarning: Maximum Likelihood optimization failed to converge. Check mle_retvals\n",
      "  ConvergenceWarning)\n"
     ]
    }
   ],
   "source": [
    "import statsmodels.api as sm\n",
    "lr = sm.Logit(y_train,X_train).fit(method='newton', maxiter=2000)\n",
    "\n",
    "print(lr.summary2())"
   ]
  },
  {
   "cell_type": "code",
   "execution_count": 234,
   "metadata": {},
   "outputs": [],
   "source": [
    "# Features selection\n",
    "X_train1 = X_train1[:,[1,2,3,4,5,6]]\n",
    "X_test1 = X_test1[:,[1,2,3,4,5,6]]"
   ]
  },
  {
   "cell_type": "code",
   "execution_count": 235,
   "metadata": {},
   "outputs": [],
   "source": [
    "from sklearn.datasets import make_friedman1\n",
    "from sklearn.feature_selection import RFE\n",
    "from sklearn.svm import SVR"
   ]
  },
  {
   "cell_type": "code",
   "execution_count": 236,
   "metadata": {},
   "outputs": [],
   "source": [
    "from sklearn.linear_model import LogisticRegression\n",
    "reg = LogisticRegression(\n",
    "    random_state=68, \n",
    "    solver='saga'\n",
    "#    class_weight='balanced',\n",
    "#    penalty='l1', solver='liblinear'\n",
    ").fit(X_train1, y_train)"
   ]
  },
  {
   "cell_type": "code",
   "execution_count": 237,
   "metadata": {},
   "outputs": [
    {
     "data": {
      "text/plain": [
       "0.7562844298106756"
      ]
     },
     "execution_count": 237,
     "metadata": {},
     "output_type": "execute_result"
    }
   ],
   "source": [
    "# Predicting the Test set results\n",
    "y_pred = reg.predict(X_test1)\n",
    "reg.score(X_test1,y_test)"
   ]
  },
  {
   "cell_type": "code",
   "execution_count": 239,
   "metadata": {},
   "outputs": [
    {
     "name": "stdout",
     "output_type": "stream",
     "text": [
      "[1.62373326 0.62373326 0.61648166 ... 0.07730092 0.07512552 0.07509756]\n",
      "[0.00000000e+00 2.56344527e-04 5.12689054e-04 ... 1.00000000e+00\n",
      " 1.00000000e+00 1.00000000e+00]\n"
     ]
    },
    {
     "data": {
      "image/png": "[encoded data removed]",
      "text/plain": [
       "<Figure size 432x288 with 1 Axes>"
      ]
     },
     "metadata": {
      "needs_background": "light"
     },
     "output_type": "display_data"
    }
   ],
   "source": [
    "from sklearn.metrics import roc_curve, roc_auc_score\n",
    "y_score = reg.predict_proba(X_test1)[:,1]\n",
    "tpr, fpr,  thresh = roc_curve(y_test, y_score)\n",
    "from matplotlib import pyplot as plt\n",
    "plt.scatter(tpr, fpr)\n",
    "roc_auc_score(y_test, y_score)\n",
    "print(thresh)\n",
    "print(fpr)"
   ]
  },
  {
   "cell_type": "code",
   "execution_count": 240,
   "metadata": {},
   "outputs": [],
   "source": [
    "def predict_thresh(clf, x, thresh):\n",
    "    y_prob = clf.predict_proba(x)\n",
    "    y_prob = y_prob[:,1]\n",
    "    y_tst = np.array([d>thresh for d in y_prob])\n",
    "    return y_tst"
   ]
  },
  {
   "cell_type": "code",
   "execution_count": 241,
   "metadata": {},
   "outputs": [
    {
     "name": "stdout",
     "output_type": "stream",
     "text": [
      "              precision    recall  f1-score   support\n",
      "\n",
      "           0       0.77      0.94      0.85     47540\n",
      "           1       0.49      0.16      0.24     15631\n",
      "\n",
      "    accuracy                           0.75     63171\n",
      "   macro avg       0.63      0.55      0.55     63171\n",
      "weighted avg       0.70      0.75      0.70     63171\n",
      "\n",
      "              precision    recall  f1-score   support\n",
      "\n",
      "           0       0.77      0.94      0.85     11892\n",
      "           1       0.49      0.16      0.24      3901\n",
      "\n",
      "    accuracy                           0.75     15793\n",
      "   macro avg       0.63      0.55      0.55     15793\n",
      "weighted avg       0.70      0.75      0.70     15793\n",
      "\n",
      "[[11231   661]\n",
      " [ 3278   623]]\n",
      "0.7555365594972376\n"
     ]
    }
   ],
   "source": [
    "from sklearn.metrics import classification_report\n",
    "threshold = 0.4\n",
    "print(classification_report(y_train, predict_thresh(reg, X_train1, threshold)))\n",
    "print(classification_report(y_test, predict_thresh(reg, X_test1, threshold)))\n",
    "# Making the Confusion Matrix\n",
    "from sklearn.metrics import confusion_matrix\n",
    "cm = confusion_matrix(y_test, predict_thresh(reg, X_test1, threshold))\n",
    "print(cm)\n",
    "print(reg.score(X_train1, y_train))"
   ]
  },
  {
   "cell_type": "code",
   "execution_count": 242,
   "metadata": {},
   "outputs": [
    {
     "data": {
      "text/plain": [
       "<matplotlib.collections.PathCollection at 0x207a6a19588>"
      ]
     },
     "execution_count": 242,
     "metadata": {},
     "output_type": "execute_result"
    },
    {
     "data": {
      "image/png": "[encoded data removed]",
      "text/plain": [
       "<Figure size 432x288 with 1 Axes>"
      ]
     },
     "metadata": {
      "needs_background": "light"
     },
     "output_type": "display_data"
    }
   ],
   "source": [
    "from sklearn.metrics import accuracy_score\n",
    "thresholds = np.arange(0,1,0.01)\n",
    "accs = [accuracy_score(y_train, predict_thresh(reg, X_train1, thresgold)) for thresgold in thresholds]\n",
    "plt.scatter(thresholds, accs)"
   ]
  },
  {
   "cell_type": "code",
   "execution_count": 243,
   "metadata": {},
   "outputs": [
    {
     "data": {
      "text/plain": [
       "0.757087904259866"
      ]
     },
     "execution_count": 243,
     "metadata": {},
     "output_type": "execute_result"
    }
   ],
   "source": [
    "max(accs)"
   ]
  },
  {
   "cell_type": "code",
   "execution_count": null,
   "metadata": {},
   "outputs": [],
   "source": [
    "#estimator = LogisticRegression(class_weight='balanced', penalty='l1', solver='liblinear')\n",
    "#selector = RFE(estimator, n_features_to_select=5, step=1)\n",
    "#selector = selector.fit(X_train, y_train)\n",
    "#selector.support_"
   ]
  },
  {
   "cell_type": "code",
   "execution_count": null,
   "metadata": {},
   "outputs": [],
   "source": [
    "#cols = [c for c in d2.columns if c != 'Interpersonal_trust']\n",
    "#dc = dict(enumerate(selector.support_))\n",
    "#dc = {k: v for k, v in dc.items() if v}\n",
    "#features = []\n",
    "#for i in dc:\n",
    "    #features.append(cols[i])\n",
    "#features"
   ]
  },
  {
   "cell_type": "code",
   "execution_count": null,
   "metadata": {},
   "outputs": [],
   "source": [
    "#Балансирование кластеров (отсечение избыточных кластеров в тренировочной выборке)"
   ]
  },
  {
   "cell_type": "code",
   "execution_count": 244,
   "metadata": {},
   "outputs": [],
   "source": [
    "from itertools import groupby"
   ]
  },
  {
   "cell_type": "code",
   "execution_count": 245,
   "metadata": {},
   "outputs": [
    {
     "name": "stdout",
     "output_type": "stream",
     "text": [
      "0 47540\n",
      "1 15631\n"
     ]
    }
   ],
   "source": [
    "for cl, group in groupby(sorted(y_train)):\n",
    "    print(cl, len(list(group)))"
   ]
  },
  {
   "cell_type": "code",
   "execution_count": 246,
   "metadata": {},
   "outputs": [],
   "source": [
    "y_train.index = range(y_train.shape[0])"
   ]
  },
  {
   "cell_type": "code",
   "execution_count": 247,
   "metadata": {},
   "outputs": [],
   "source": [
    "y_train_1 = y_train[y_train == 1]\n",
    "X_train_1 = X_train[y_train_1.index,:]"
   ]
  },
  {
   "cell_type": "code",
   "execution_count": 248,
   "metadata": {},
   "outputs": [
    {
     "data": {
      "text/plain": [
       "(15631, 16)"
      ]
     },
     "execution_count": 248,
     "metadata": {},
     "output_type": "execute_result"
    }
   ],
   "source": [
    "from numpy.random import choice\n",
    "y_train_0 = y_train[y_train == 0]\n",
    "y_train_0 = y_train_0.sample(n=y_train_1.shape[0], replace=False)\n",
    "X_train_0 = X_train[y_train_0.index,:]\n",
    "X_train_0.shape"
   ]
  },
  {
   "cell_type": "code",
   "execution_count": 249,
   "metadata": {},
   "outputs": [
    {
     "data": {
      "text/plain": [
       "array([[-0.9621994 ,  0.90585975, -0.68457014, ..., -0.1680997 ,\n",
       "        -0.14900002, -0.31644522],\n",
       "       [ 1.03928562,  0.2387182 , -1.09887743, ..., -0.1680997 ,\n",
       "        -0.14900002, -0.31644522],\n",
       "       [ 1.03928562, -0.12517719, -0.27026285, ..., -0.1680997 ,\n",
       "        -0.14900002,  3.16010457],\n",
       "       ...,\n",
       "       [-0.9621994 , -1.45946028,  0.55835172, ..., -0.1680997 ,\n",
       "        -0.14900002, -0.31644522],\n",
       "       [-0.9621994 , -0.42842334,  0.14404443, ..., -0.1680997 ,\n",
       "        -0.14900002, -0.31644522],\n",
       "       [ 1.03928562,  1.51235206, -0.27026285, ..., -0.1680997 ,\n",
       "        -0.14900002, -0.31644522]])"
      ]
     },
     "execution_count": 249,
     "metadata": {},
     "output_type": "execute_result"
    }
   ],
   "source": [
    "X_train_0"
   ]
  },
  {
   "cell_type": "code",
   "execution_count": 250,
   "metadata": {},
   "outputs": [],
   "source": [
    "from numpy import concatenate\n",
    "X_train_01 = concatenate([X_train_0, X_train_1])\n",
    "y_train_01 = concatenate([y_train_0, y_train_1])"
   ]
  },
  {
   "cell_type": "code",
   "execution_count": 251,
   "metadata": {},
   "outputs": [
    {
     "name": "stdout",
     "output_type": "stream",
     "text": [
      "Optimization terminated successfully.\n",
      "         Current function value: 0.638298\n",
      "         Iterations 7\n",
      "                          Results: Logit\n",
      "==================================================================\n",
      "Model:               Logit            Pseudo R-squared: 0.079     \n",
      "Dependent Variable:  y                AIC:              39938.9432\n",
      "Date:                2020-12-16 23:22 BIC:              40064.1956\n",
      "No. Observations:    31262            Log-Likelihood:   -19954.   \n",
      "Df Model:            14               LL-Null:          -21669.   \n",
      "Df Residuals:        31247            LLR p-value:      0.0000    \n",
      "Converged:           1.0000           Scale:            1.0000    \n",
      "No. Iterations:      7.0000                                       \n",
      "------------------------------------------------------------------\n",
      "     Coef.    Std.Err.     z     P>|z|      [0.025       0.975]   \n",
      "------------------------------------------------------------------\n",
      "x1   0.0048      0.0121   0.3951 0.6928       -0.0189       0.0285\n",
      "x2   0.1073      0.0128   8.4009 0.0000        0.0823       0.1323\n",
      "x3   0.1231      0.0129   9.5108 0.0000        0.0977       0.1485\n",
      "x4   0.0971      0.0140   6.9221 0.0000        0.0696       0.1247\n",
      "x5  -0.0432      0.0125  -3.4552 0.0005       -0.0676      -0.0187\n",
      "x6  -0.2529      0.0120 -21.0503 0.0000       -0.2765      -0.2294\n",
      "x7   0.1499      0.0139  10.8193 0.0000        0.1227       0.1770\n",
      "x8  -0.1242 437186.7473  -0.0000 1.0000  -856870.4033  856870.1549\n",
      "x9   0.1369 529629.9713   0.0000 1.0000 -1038055.5321 1038055.8058\n",
      "x10 -0.1974 125222.5411  -0.0000 1.0000  -245431.8680  245431.4732\n",
      "x11 -0.1149 175898.4562  -0.0000 1.0000  -344754.7539  344754.5241\n",
      "x12  0.1454 472504.1265   0.0000 1.0000  -926090.9250  926091.2158\n",
      "x13  0.0727 275538.5159   0.0000 1.0000  -540045.4949  540045.6403\n",
      "x14  0.0888 183074.9639   0.0000 1.0000  -358820.2470  358820.4245\n",
      "x15  0.1863 163235.2486   0.0000 1.0000  -319935.0220  319935.3946\n",
      "x16 -0.3373 322118.3484  -0.0000 1.0000  -631340.6989  631340.0242\n",
      "==================================================================\n",
      "\n"
     ]
    }
   ],
   "source": [
    "import statsmodels.api as sm\n",
    "lr = sm.Logit(y_train_01,X_train_01).fit(method='newton', maxiter=2000)\n",
    "\n",
    "print(lr.summary2())"
   ]
  },
  {
   "cell_type": "code",
   "execution_count": 254,
   "metadata": {},
   "outputs": [],
   "source": [
    "X_train2 =X_train_01[:,[1,2,3,4,5,6]]\n",
    "X_test2 =X_test[:,[1,2,3,4,5,6]]"
   ]
  },
  {
   "cell_type": "code",
   "execution_count": 255,
   "metadata": {},
   "outputs": [],
   "source": [
    "from sklearn.linear_model import LogisticRegression\n",
    "reg = LogisticRegression(\n",
    "    random_state=68, \n",
    "    solver='saga'\n",
    "#    class_weight='balanced',\n",
    "#    penalty='l1', solver='liblinear'\n",
    ").fit(X_train2, y_train_01)"
   ]
  },
  {
   "cell_type": "code",
   "execution_count": 257,
   "metadata": {},
   "outputs": [
    {
     "data": {
      "text/plain": [
       "0.6210346355980497"
      ]
     },
     "execution_count": 257,
     "metadata": {},
     "output_type": "execute_result"
    }
   ],
   "source": [
    "# Predicting the Test set results\n",
    "y_pred = reg.predict(X_test2)\n",
    "reg.score(X_test2,y_test)"
   ]
  },
  {
   "cell_type": "code",
   "execution_count": 260,
   "metadata": {},
   "outputs": [
    {
     "name": "stdout",
     "output_type": "stream",
     "text": [
      "              precision    recall  f1-score   support\n",
      "\n",
      "           0       0.62      0.26      0.37     15631\n",
      "           1       0.53      0.84      0.65     15631\n",
      "\n",
      "    accuracy                           0.55     31262\n",
      "   macro avg       0.58      0.55      0.51     31262\n",
      "weighted avg       0.58      0.55      0.51     31262\n",
      "\n",
      "              precision    recall  f1-score   support\n",
      "\n",
      "           0       0.84      0.26      0.40     11892\n",
      "           1       0.27      0.85      0.41      3901\n",
      "\n",
      "    accuracy                           0.41     15793\n",
      "   macro avg       0.56      0.56      0.41     15793\n",
      "weighted avg       0.70      0.41      0.40     15793\n",
      "\n",
      "[[3087 8805]\n",
      " [ 579 3322]]\n",
      "0.601113172541744\n"
     ]
    }
   ],
   "source": [
    "from sklearn.metrics import classification_report\n",
    "threshold = 0.4\n",
    "print(classification_report(y_train_01, predict_thresh(reg, X_train2, threshold)))\n",
    "print(classification_report(y_test, predict_thresh(reg, X_test2, threshold)))\n",
    "# Making the Confusion Matrix\n",
    "from sklearn.metrics import confusion_matrix\n",
    "cm = confusion_matrix(y_test, predict_thresh(reg, X_test2, threshold))\n",
    "print(cm)\n",
    "print(reg.score(X_train2, y_train_01))"
   ]
  },
  {
   "cell_type": "code",
   "execution_count": 261,
   "metadata": {},
   "outputs": [
    {
     "name": "stdout",
     "output_type": "stream",
     "text": [
      "0.6341279302322114\n",
      "[1.83224473 0.83224473 0.82688891 ... 0.21218116 0.20674104 0.20514   ]\n",
      "[0.00000000e+00 2.56344527e-04 5.12689054e-04 ... 1.00000000e+00\n",
      " 1.00000000e+00 1.00000000e+00]\n"
     ]
    },
    {
     "data": {
      "image/png": "[encoded data removed]",
      "text/plain": [
       "<Figure size 432x288 with 1 Axes>"
      ]
     },
     "metadata": {
      "needs_background": "light"
     },
     "output_type": "display_data"
    }
   ],
   "source": [
    "from sklearn.metrics import roc_curve, roc_auc_score\n",
    "y_score = reg.predict_proba(X_test2)[:,1]\n",
    "tpr, fpr,  thresh = roc_curve(y_test, y_score)\n",
    "from matplotlib import pyplot as plt\n",
    "plt.scatter(tpr, fpr)\n",
    "print(roc_auc_score(y_test, y_score))\n",
    "print(thresh)\n",
    "print(fpr)"
   ]
  },
  {
   "cell_type": "code",
   "execution_count": 263,
   "metadata": {},
   "outputs": [
    {
     "data": {
      "text/plain": [
       "<matplotlib.collections.PathCollection at 0x207a7228388>"
      ]
     },
     "execution_count": 263,
     "metadata": {},
     "output_type": "execute_result"
    },
    {
     "data": {
      "image/png": "[encoded data removed]",
      "text/plain": [
       "<Figure size 432x288 with 1 Axes>"
      ]
     },
     "metadata": {
      "needs_background": "light"
     },
     "output_type": "display_data"
    }
   ],
   "source": [
    "from sklearn.metrics import accuracy_score\n",
    "thresholds = np.arange(0,1,0.01)\n",
    "accs = [accuracy_score(y_test, predict_thresh(reg, X_test2, thresgold)) for thresgold in thresholds]\n",
    "plt.scatter(thresholds, accs)"
   ]
  },
  {
   "cell_type": "code",
   "execution_count": 264,
   "metadata": {},
   "outputs": [
    {
     "name": "stdout",
     "output_type": "stream",
     "text": [
      "0.7569809409231938\n",
      "0.71\n"
     ]
    }
   ],
   "source": [
    "print(max(accs))\n",
    "print(max(thresholds, key=lambda x: accs[list(thresholds).index(x)]))"
   ]
  },
  {
   "cell_type": "code",
   "execution_count": 265,
   "metadata": {},
   "outputs": [
    {
     "name": "stdout",
     "output_type": "stream",
     "text": [
      "              precision    recall  f1-score   support\n",
      "\n",
      "           0       0.52      0.98      0.68     15631\n",
      "           1       0.78      0.09      0.16     15631\n",
      "\n",
      "    accuracy                           0.53     31262\n",
      "   macro avg       0.65      0.53      0.42     31262\n",
      "weighted avg       0.65      0.53      0.42     31262\n",
      "\n",
      "              precision    recall  f1-score   support\n",
      "\n",
      "           0       0.77      0.98      0.86     11892\n",
      "           1       0.55      0.09      0.15      3901\n",
      "\n",
      "    accuracy                           0.76     15793\n",
      "   macro avg       0.66      0.53      0.50     15793\n",
      "weighted avg       0.71      0.76      0.68     15793\n",
      "\n",
      "[[11622   270]\n",
      " [ 3568   333]]\n"
     ]
    }
   ],
   "source": [
    "from sklearn.metrics import classification_report\n",
    "threshold = 0.71\n",
    "print(classification_report(y_train_01, predict_thresh(reg, X_train2, threshold)))\n",
    "print(classification_report(y_test, predict_thresh(reg, X_test2, threshold)))\n",
    "# Making the Confusion Matrix\n",
    "from sklearn.metrics import confusion_matrix\n",
    "cm = confusion_matrix(y_test, predict_thresh(reg, X_test2, threshold))\n",
    "print(cm)"
   ]
  },
  {
   "cell_type": "code",
   "execution_count": 266,
   "metadata": {},
   "outputs": [],
   "source": [
    "# Support Vector Machine (SVM)"
   ]
  },
  {
   "cell_type": "code",
   "execution_count": 267,
   "metadata": {},
   "outputs": [],
   "source": [
    "# Fitting SVM to the Training set \n",
    "from sklearn.svm import SVC\n",
    "svm = SVC(kernel = 'rbf', random_state = 10).fit(X_train, y_train)"
   ]
  },
  {
   "cell_type": "code",
   "execution_count": 268,
   "metadata": {},
   "outputs": [
    {
     "data": {
      "text/plain": [
       "0.7655290318495536"
      ]
     },
     "execution_count": 268,
     "metadata": {},
     "output_type": "execute_result"
    }
   ],
   "source": [
    "# Predicting the Test set results\n",
    "y_pred = svm.predict(X_test)\n",
    "svm.score(X_test,y_test)"
   ]
  },
  {
   "cell_type": "code",
   "execution_count": 269,
   "metadata": {},
   "outputs": [
    {
     "name": "stdout",
     "output_type": "stream",
     "text": [
      "[[11448   444]\n",
      " [ 3259   642]]\n"
     ]
    }
   ],
   "source": [
    "# Making the Confusion Matrix\n",
    "from sklearn.metrics import confusion_matrix\n",
    "cm = confusion_matrix(y_test, y_pred)\n",
    "print(cm)"
   ]
  },
  {
   "cell_type": "code",
   "execution_count": null,
   "metadata": {},
   "outputs": [],
   "source": [
    "# SVM, используя сбалансированную тренировочную выборку"
   ]
  },
  {
   "cell_type": "code",
   "execution_count": 270,
   "metadata": {},
   "outputs": [],
   "source": [
    "# Fitting SVM to the Training set \n",
    "from sklearn.svm import SVC\n",
    "svm01 = SVC(kernel = 'rbf', random_state = 10).fit(X_train_01, y_train_01)"
   ]
  },
  {
   "cell_type": "code",
   "execution_count": 299,
   "metadata": {},
   "outputs": [
    {
     "data": {
      "text/plain": [
       "0.6492749952510606"
      ]
     },
     "execution_count": 299,
     "metadata": {},
     "output_type": "execute_result"
    }
   ],
   "source": [
    "# Predicting the Test set results\n",
    "y_pred = svm01.predict(X_test)\n",
    "svm01.score(X_test,y_test)"
   ]
  },
  {
   "cell_type": "code",
   "execution_count": 272,
   "metadata": {},
   "outputs": [
    {
     "name": "stdout",
     "output_type": "stream",
     "text": [
      "[[7782 4110]\n",
      " [1429 2472]]\n"
     ]
    }
   ],
   "source": [
    "# Making the Confusion Matrix\n",
    "from sklearn.metrics import confusion_matrix\n",
    "cm = confusion_matrix(y_test, y_pred)\n",
    "print(cm)"
   ]
  },
  {
   "cell_type": "code",
   "execution_count": 273,
   "metadata": {},
   "outputs": [],
   "source": [
    "# K-Nearest Neighbors (K-NN)"
   ]
  },
  {
   "cell_type": "code",
   "execution_count": 274,
   "metadata": {},
   "outputs": [
    {
     "name": "stdout",
     "output_type": "stream",
     "text": [
      "Minimum error:- 0.2351041600709175 at K = 47\n"
     ]
    },
    {
     "data": {
      "image/png": "[encoded data removed]",
      "text/plain": [
       "<Figure size 720x432 with 1 Axes>"
      ]
     },
     "metadata": {
      "needs_background": "light"
     },
     "output_type": "display_data"
    }
   ],
   "source": [
    "# Optimal K \n",
    "from sklearn.neighbors import KNeighborsClassifier\n",
    "error_rate = []\n",
    "for i in range(1,50):\n",
    "     knn = KNeighborsClassifier(n_neighbors=i)\n",
    "     knn.fit(X_train,y_train)\n",
    "     pred_i = knn.predict(X_test)\n",
    "     error_rate.append(np.mean(pred_i != y_test))\n",
    "\n",
    "plt.figure(figsize=(10,6))\n",
    "plt.plot(range(1,50),error_rate,color='blue', linestyle='dashed', \n",
    "         marker='o',markerfacecolor='red', markersize=10)\n",
    "plt.title('Error Rate vs. K Value')\n",
    "plt.xlabel('K')\n",
    "plt.ylabel('Error Rate')\n",
    "print(\"Minimum error:-\",min(error_rate),\"at K =\",error_rate.index(min(error_rate)))"
   ]
  },
  {
   "cell_type": "code",
   "execution_count": 275,
   "metadata": {},
   "outputs": [],
   "source": [
    "# Fitting K-NN to the Training set\n",
    "knn = KNeighborsClassifier(n_neighbors = 47, metric = 'minkowski', p = 2).fit(X_train, y_train)"
   ]
  },
  {
   "cell_type": "code",
   "execution_count": 276,
   "metadata": {},
   "outputs": [
    {
     "data": {
      "text/plain": [
       "0.7632495409358576"
      ]
     },
     "execution_count": 276,
     "metadata": {},
     "output_type": "execute_result"
    }
   ],
   "source": [
    "# Predicting the Test set results\n",
    "y_pred = knn.predict(X_test)\n",
    "knn.score(X_test,y_test)"
   ]
  },
  {
   "cell_type": "code",
   "execution_count": 277,
   "metadata": {},
   "outputs": [
    {
     "name": "stdout",
     "output_type": "stream",
     "text": [
      "[[11234   658]\n",
      " [ 3081   820]]\n"
     ]
    }
   ],
   "source": [
    "# Making the Confusion Matrix\n",
    "from sklearn.metrics import confusion_matrix\n",
    "cm = confusion_matrix(y_test, y_pred)\n",
    "print(cm)"
   ]
  },
  {
   "cell_type": "code",
   "execution_count": 279,
   "metadata": {},
   "outputs": [],
   "source": [
    "# Naive Bayes"
   ]
  },
  {
   "cell_type": "code",
   "execution_count": 280,
   "metadata": {},
   "outputs": [],
   "source": [
    "# Fitting Naive Bayes to the Training set\n",
    "from sklearn.naive_bayes import GaussianNB\n",
    "nb = GaussianNB().fit(X_train, y_train)"
   ]
  },
  {
   "cell_type": "code",
   "execution_count": 281,
   "metadata": {},
   "outputs": [
    {
     "data": {
      "text/plain": [
       "0.6100804153738998"
      ]
     },
     "execution_count": 281,
     "metadata": {},
     "output_type": "execute_result"
    }
   ],
   "source": [
    "# Predicting the Test set results\n",
    "y_pred = nb.predict(X_test)\n",
    "nb.score(X_test,y_test)"
   ]
  },
  {
   "cell_type": "code",
   "execution_count": 282,
   "metadata": {},
   "outputs": [
    {
     "name": "stdout",
     "output_type": "stream",
     "text": [
      "[[7011 4881]\n",
      " [1277 2624]]\n"
     ]
    }
   ],
   "source": [
    "# Making the Confusion Matrix\n",
    "from sklearn.metrics import confusion_matrix\n",
    "cm = confusion_matrix(y_test, y_pred)\n",
    "print(cm)"
   ]
  },
  {
   "cell_type": "code",
   "execution_count": 283,
   "metadata": {},
   "outputs": [],
   "source": [
    "# Naive Bayes, используя сбалансированную тренировочную выборку"
   ]
  },
  {
   "cell_type": "code",
   "execution_count": 284,
   "metadata": {},
   "outputs": [],
   "source": [
    "# Fitting Naive Bayes to the Training set\n",
    "from sklearn.naive_bayes import GaussianNB\n",
    "nb = GaussianNB().fit(X_train_01, y_train_01)"
   ]
  },
  {
   "cell_type": "code",
   "execution_count": null,
   "metadata": {},
   "outputs": [],
   "source": [
    "# Predicting the Test set results\n",
    "y_pred = nb.predict(X_test_01)\n",
    "nb.score(X_test_01,y_test)"
   ]
  },
  {
   "cell_type": "code",
   "execution_count": 286,
   "metadata": {},
   "outputs": [
    {
     "name": "stdout",
     "output_type": "stream",
     "text": [
      "[[5030 6862]\n",
      " [ 791 3110]]\n"
     ]
    }
   ],
   "source": [
    "# Making the Confusion Matrix\n",
    "from sklearn.metrics import confusion_matrix\n",
    "cm = confusion_matrix(y_test, y_pred)\n",
    "print(cm)"
   ]
  },
  {
   "cell_type": "code",
   "execution_count": 287,
   "metadata": {},
   "outputs": [],
   "source": [
    "# K-Means Clustering"
   ]
  },
  {
   "cell_type": "code",
   "execution_count": 288,
   "metadata": {},
   "outputs": [
    {
     "data": {
      "text/html": [
       "<div>\n",
       "<style scoped>\n",
       "    .dataframe tbody tr th:only-of-type {\n",
       "        vertical-align: middle;\n",
       "    }\n",
       "\n",
       "    .dataframe tbody tr th {\n",
       "        vertical-align: top;\n",
       "    }\n",
       "\n",
       "    .dataframe thead th {\n",
       "        text-align: right;\n",
       "    }\n",
       "</style>\n",
       "<table border=\"1\" class=\"dataframe\">\n",
       "  <thead>\n",
       "    <tr style=\"text-align: right;\">\n",
       "      <th></th>\n",
       "      <th>Sex</th>\n",
       "      <th>Age</th>\n",
       "      <th>Education</th>\n",
       "      <th>Satisfaction_with_life</th>\n",
       "      <th>Employment_status</th>\n",
       "      <th>Religion</th>\n",
       "      <th>Interpersonal_trust</th>\n",
       "      <th>Satisfaction_with_financial_situation_of_household</th>\n",
       "    </tr>\n",
       "  </thead>\n",
       "  <tbody>\n",
       "    <tr>\n",
       "      <th>count</th>\n",
       "      <td>90350.000000</td>\n",
       "      <td>90350.000000</td>\n",
       "      <td>90349.000000</td>\n",
       "      <td>90350.000000</td>\n",
       "      <td>90350.000000</td>\n",
       "      <td>90350.000000</td>\n",
       "      <td>90350.000000</td>\n",
       "      <td>90350.000000</td>\n",
       "    </tr>\n",
       "    <tr>\n",
       "      <th>mean</th>\n",
       "      <td>1.514388</td>\n",
       "      <td>41.964361</td>\n",
       "      <td>5.569392</td>\n",
       "      <td>6.775695</td>\n",
       "      <td>3.273536</td>\n",
       "      <td>5531.439823</td>\n",
       "      <td>1.668866</td>\n",
       "      <td>5.877643</td>\n",
       "    </tr>\n",
       "    <tr>\n",
       "      <th>std</th>\n",
       "      <td>0.524561</td>\n",
       "      <td>16.583474</td>\n",
       "      <td>2.571788</td>\n",
       "      <td>2.362439</td>\n",
       "      <td>2.300889</td>\n",
       "      <td>60360.296109</td>\n",
       "      <td>0.652453</td>\n",
       "      <td>2.527539</td>\n",
       "    </tr>\n",
       "    <tr>\n",
       "      <th>min</th>\n",
       "      <td>-5.000000</td>\n",
       "      <td>-5.000000</td>\n",
       "      <td>-5.000000</td>\n",
       "      <td>-5.000000</td>\n",
       "      <td>-5.000000</td>\n",
       "      <td>-5.000000</td>\n",
       "      <td>-5.000000</td>\n",
       "      <td>-5.000000</td>\n",
       "    </tr>\n",
       "    <tr>\n",
       "      <th>25%</th>\n",
       "      <td>1.000000</td>\n",
       "      <td>28.000000</td>\n",
       "      <td>4.000000</td>\n",
       "      <td>5.000000</td>\n",
       "      <td>1.000000</td>\n",
       "      <td>6.000000</td>\n",
       "      <td>1.000000</td>\n",
       "      <td>4.000000</td>\n",
       "    </tr>\n",
       "    <tr>\n",
       "      <th>50%</th>\n",
       "      <td>2.000000</td>\n",
       "      <td>40.000000</td>\n",
       "      <td>6.000000</td>\n",
       "      <td>7.000000</td>\n",
       "      <td>3.000000</td>\n",
       "      <td>49.000000</td>\n",
       "      <td>2.000000</td>\n",
       "      <td>6.000000</td>\n",
       "    </tr>\n",
       "    <tr>\n",
       "      <th>75%</th>\n",
       "      <td>2.000000</td>\n",
       "      <td>54.000000</td>\n",
       "      <td>8.000000</td>\n",
       "      <td>8.000000</td>\n",
       "      <td>5.000000</td>\n",
       "      <td>62.000000</td>\n",
       "      <td>2.000000</td>\n",
       "      <td>8.000000</td>\n",
       "    </tr>\n",
       "    <tr>\n",
       "      <th>max</th>\n",
       "      <td>2.000000</td>\n",
       "      <td>99.000000</td>\n",
       "      <td>9.000000</td>\n",
       "      <td>10.000000</td>\n",
       "      <td>8.000000</td>\n",
       "      <td>710002.000000</td>\n",
       "      <td>2.000000</td>\n",
       "      <td>10.000000</td>\n",
       "    </tr>\n",
       "  </tbody>\n",
       "</table>\n",
       "</div>"
      ],
      "text/plain": [
       "                Sex           Age     Education  Satisfaction_with_life  \\\n",
       "count  90350.000000  90350.000000  90349.000000            90350.000000   \n",
       "mean       1.514388     41.964361      5.569392                6.775695   \n",
       "std        0.524561     16.583474      2.571788                2.362439   \n",
       "min       -5.000000     -5.000000     -5.000000               -5.000000   \n",
       "25%        1.000000     28.000000      4.000000                5.000000   \n",
       "50%        2.000000     40.000000      6.000000                7.000000   \n",
       "75%        2.000000     54.000000      8.000000                8.000000   \n",
       "max        2.000000     99.000000      9.000000               10.000000   \n",
       "\n",
       "       Employment_status       Religion  Interpersonal_trust  \\\n",
       "count       90350.000000   90350.000000         90350.000000   \n",
       "mean            3.273536    5531.439823             1.668866   \n",
       "std             2.300889   60360.296109             0.652453   \n",
       "min            -5.000000      -5.000000            -5.000000   \n",
       "25%             1.000000       6.000000             1.000000   \n",
       "50%             3.000000      49.000000             2.000000   \n",
       "75%             5.000000      62.000000             2.000000   \n",
       "max             8.000000  710002.000000             2.000000   \n",
       "\n",
       "       Satisfaction_with_financial_situation_of_household  \n",
       "count                                       90350.000000   \n",
       "mean                                            5.877643   \n",
       "std                                             2.527539   \n",
       "min                                            -5.000000   \n",
       "25%                                             4.000000   \n",
       "50%                                             6.000000   \n",
       "75%                                             8.000000   \n",
       "max                                            10.000000   "
      ]
     },
     "execution_count": 288,
     "metadata": {},
     "output_type": "execute_result"
    }
   ],
   "source": [
    "#rename columns\n",
    "d3 = data.copy()\n",
    "d3.columns = [\"q{}\".format(i+1) for i in range(len(d3.columns))]\n",
    "columns_real = [\"q309\", \"q311\", \"q319\", \"q24\", \"q298\", \"q165\", \"q25\", \"q62\"] \n",
    "names = {\n",
    "    \"q309\": \"Sex\", \"q165\": \"Religion\",\n",
    "    \"q311\": \"Age\", \"q319\": \"Education\",\n",
    "    \"q24\": \"Satisfaction_with_life\",\n",
    "    \"q25\": \"Interpersonal_trust\",\n",
    "    \"q298\": \"Employment_status\",\n",
    "    \"q62\": \"Satisfaction_with_financial_situation_of_household\",\n",
    "}\n",
    "columns_real_new = [names.get(x, x) for x in columns_real]\n",
    "d3 = d3[columns_real]\n",
    "d3 = d3.rename(columns=names)\n",
    "d3.describe()"
   ]
  },
  {
   "cell_type": "code",
   "execution_count": 289,
   "metadata": {},
   "outputs": [
    {
     "data": {
      "text/html": [
       "<div>\n",
       "<style scoped>\n",
       "    .dataframe tbody tr th:only-of-type {\n",
       "        vertical-align: middle;\n",
       "    }\n",
       "\n",
       "    .dataframe tbody tr th {\n",
       "        vertical-align: top;\n",
       "    }\n",
       "\n",
       "    .dataframe thead th {\n",
       "        text-align: right;\n",
       "    }\n",
       "</style>\n",
       "<table border=\"1\" class=\"dataframe\">\n",
       "  <thead>\n",
       "    <tr style=\"text-align: right;\">\n",
       "      <th></th>\n",
       "      <th>Sex</th>\n",
       "      <th>Age</th>\n",
       "      <th>Education</th>\n",
       "      <th>Satisfaction_with_life</th>\n",
       "      <th>Employment_status</th>\n",
       "      <th>Religion</th>\n",
       "      <th>Interpersonal_trust</th>\n",
       "      <th>Satisfaction_with_financial_situation_of_household</th>\n",
       "    </tr>\n",
       "  </thead>\n",
       "  <tbody>\n",
       "    <tr>\n",
       "      <th>count</th>\n",
       "      <td>78964.000000</td>\n",
       "      <td>78964.000000</td>\n",
       "      <td>78964.000000</td>\n",
       "      <td>78964.000000</td>\n",
       "      <td>78964.000000</td>\n",
       "      <td>78964.000000</td>\n",
       "      <td>78964.000000</td>\n",
       "      <td>78964.000000</td>\n",
       "    </tr>\n",
       "    <tr>\n",
       "      <th>mean</th>\n",
       "      <td>0.479978</td>\n",
       "      <td>42.051631</td>\n",
       "      <td>5.652576</td>\n",
       "      <td>6.850134</td>\n",
       "      <td>3.398663</td>\n",
       "      <td>0.811927</td>\n",
       "      <td>0.247353</td>\n",
       "      <td>5.898143</td>\n",
       "    </tr>\n",
       "    <tr>\n",
       "      <th>std</th>\n",
       "      <td>0.499602</td>\n",
       "      <td>16.504042</td>\n",
       "      <td>2.413748</td>\n",
       "      <td>2.258310</td>\n",
       "      <td>2.148131</td>\n",
       "      <td>0.390773</td>\n",
       "      <td>0.431476</td>\n",
       "      <td>2.449861</td>\n",
       "    </tr>\n",
       "    <tr>\n",
       "      <th>min</th>\n",
       "      <td>0.000000</td>\n",
       "      <td>16.000000</td>\n",
       "      <td>1.000000</td>\n",
       "      <td>1.000000</td>\n",
       "      <td>1.000000</td>\n",
       "      <td>0.000000</td>\n",
       "      <td>0.000000</td>\n",
       "      <td>1.000000</td>\n",
       "    </tr>\n",
       "    <tr>\n",
       "      <th>25%</th>\n",
       "      <td>0.000000</td>\n",
       "      <td>28.000000</td>\n",
       "      <td>4.000000</td>\n",
       "      <td>5.000000</td>\n",
       "      <td>1.000000</td>\n",
       "      <td>1.000000</td>\n",
       "      <td>0.000000</td>\n",
       "      <td>4.000000</td>\n",
       "    </tr>\n",
       "    <tr>\n",
       "      <th>50%</th>\n",
       "      <td>0.000000</td>\n",
       "      <td>40.000000</td>\n",
       "      <td>6.000000</td>\n",
       "      <td>7.000000</td>\n",
       "      <td>3.000000</td>\n",
       "      <td>1.000000</td>\n",
       "      <td>0.000000</td>\n",
       "      <td>6.000000</td>\n",
       "    </tr>\n",
       "    <tr>\n",
       "      <th>75%</th>\n",
       "      <td>1.000000</td>\n",
       "      <td>54.000000</td>\n",
       "      <td>8.000000</td>\n",
       "      <td>8.000000</td>\n",
       "      <td>5.000000</td>\n",
       "      <td>1.000000</td>\n",
       "      <td>0.000000</td>\n",
       "      <td>8.000000</td>\n",
       "    </tr>\n",
       "    <tr>\n",
       "      <th>max</th>\n",
       "      <td>1.000000</td>\n",
       "      <td>99.000000</td>\n",
       "      <td>9.000000</td>\n",
       "      <td>10.000000</td>\n",
       "      <td>8.000000</td>\n",
       "      <td>1.000000</td>\n",
       "      <td>1.000000</td>\n",
       "      <td>10.000000</td>\n",
       "    </tr>\n",
       "  </tbody>\n",
       "</table>\n",
       "</div>"
      ],
      "text/plain": [
       "                Sex           Age     Education  Satisfaction_with_life  \\\n",
       "count  78964.000000  78964.000000  78964.000000            78964.000000   \n",
       "mean       0.479978     42.051631      5.652576                6.850134   \n",
       "std        0.499602     16.504042      2.413748                2.258310   \n",
       "min        0.000000     16.000000      1.000000                1.000000   \n",
       "25%        0.000000     28.000000      4.000000                5.000000   \n",
       "50%        0.000000     40.000000      6.000000                7.000000   \n",
       "75%        1.000000     54.000000      8.000000                8.000000   \n",
       "max        1.000000     99.000000      9.000000               10.000000   \n",
       "\n",
       "       Employment_status      Religion  Interpersonal_trust  \\\n",
       "count       78964.000000  78964.000000         78964.000000   \n",
       "mean            3.398663      0.811927             0.247353   \n",
       "std             2.148131      0.390773             0.431476   \n",
       "min             1.000000      0.000000             0.000000   \n",
       "25%             1.000000      1.000000             0.000000   \n",
       "50%             3.000000      1.000000             0.000000   \n",
       "75%             5.000000      1.000000             0.000000   \n",
       "max             8.000000      1.000000             1.000000   \n",
       "\n",
       "       Satisfaction_with_financial_situation_of_household  \n",
       "count                                       78964.000000   \n",
       "mean                                            5.898143   \n",
       "std                                             2.449861   \n",
       "min                                             1.000000   \n",
       "25%                                             4.000000   \n",
       "50%                                             6.000000   \n",
       "75%                                             8.000000   \n",
       "max                                            10.000000   "
      ]
     },
     "execution_count": 289,
     "metadata": {},
     "output_type": "execute_result"
    }
   ],
   "source": [
    "#removing missing values (less than -1)\n",
    "d3 = d3.dropna()\n",
    "for column in columns_real_new:\n",
    "     d3 = d3[d3[column] > -1]\n",
    "d3[\"Religion\"] = d3[\"Religion\"].apply(lambda x: 1 if x > 0 else x)\n",
    "d3[\"Interpersonal_trust\"] = d3[\"Interpersonal_trust\"].apply(lambda x: 0 if x == 2 else x)\n",
    "# 2 is \"don;t trust\", then remap to 0 is don't trust and 1 is trust\n",
    "d3[\"Sex\"] = d3[\"Sex\"].apply(lambda x: 0 if x == 2 else x)\n",
    "# Set Female to 0, Male to 1\n",
    "d3.describe()"
   ]
  },
  {
   "cell_type": "code",
   "execution_count": 290,
   "metadata": {},
   "outputs": [
    {
     "data": {
      "text/html": [
       "<div>\n",
       "<style scoped>\n",
       "    .dataframe tbody tr th:only-of-type {\n",
       "        vertical-align: middle;\n",
       "    }\n",
       "\n",
       "    .dataframe tbody tr th {\n",
       "        vertical-align: top;\n",
       "    }\n",
       "\n",
       "    .dataframe thead th {\n",
       "        text-align: right;\n",
       "    }\n",
       "</style>\n",
       "<table border=\"1\" class=\"dataframe\">\n",
       "  <thead>\n",
       "    <tr style=\"text-align: right;\">\n",
       "      <th></th>\n",
       "      <th>Sex</th>\n",
       "      <th>Age</th>\n",
       "      <th>Education</th>\n",
       "      <th>Satisfaction_with_life</th>\n",
       "      <th>Employment_status</th>\n",
       "      <th>Religion</th>\n",
       "      <th>Interpersonal_trust</th>\n",
       "      <th>dSatisfaction_with_financial_situation_of_household</th>\n",
       "    </tr>\n",
       "  </thead>\n",
       "  <tbody>\n",
       "    <tr>\n",
       "      <th>0</th>\n",
       "      <td>1.0</td>\n",
       "      <td>0.06</td>\n",
       "      <td>0.75</td>\n",
       "      <td>0.78</td>\n",
       "      <td>0.71</td>\n",
       "      <td>1.0</td>\n",
       "      <td>0.0</td>\n",
       "      <td>1.00</td>\n",
       "    </tr>\n",
       "    <tr>\n",
       "      <th>1</th>\n",
       "      <td>0.0</td>\n",
       "      <td>0.10</td>\n",
       "      <td>0.75</td>\n",
       "      <td>0.44</td>\n",
       "      <td>0.71</td>\n",
       "      <td>1.0</td>\n",
       "      <td>1.0</td>\n",
       "      <td>1.00</td>\n",
       "    </tr>\n",
       "    <tr>\n",
       "      <th>2</th>\n",
       "      <td>0.0</td>\n",
       "      <td>0.12</td>\n",
       "      <td>0.50</td>\n",
       "      <td>0.33</td>\n",
       "      <td>0.29</td>\n",
       "      <td>1.0</td>\n",
       "      <td>1.0</td>\n",
       "      <td>0.56</td>\n",
       "    </tr>\n",
       "    <tr>\n",
       "      <th>3</th>\n",
       "      <td>0.0</td>\n",
       "      <td>0.14</td>\n",
       "      <td>0.62</td>\n",
       "      <td>0.78</td>\n",
       "      <td>0.00</td>\n",
       "      <td>1.0</td>\n",
       "      <td>0.0</td>\n",
       "      <td>0.56</td>\n",
       "    </tr>\n",
       "    <tr>\n",
       "      <th>4</th>\n",
       "      <td>0.0</td>\n",
       "      <td>0.23</td>\n",
       "      <td>0.25</td>\n",
       "      <td>0.78</td>\n",
       "      <td>0.29</td>\n",
       "      <td>1.0</td>\n",
       "      <td>0.0</td>\n",
       "      <td>0.33</td>\n",
       "    </tr>\n",
       "    <tr>\n",
       "      <th>...</th>\n",
       "      <td>...</td>\n",
       "      <td>...</td>\n",
       "      <td>...</td>\n",
       "      <td>...</td>\n",
       "      <td>...</td>\n",
       "      <td>...</td>\n",
       "      <td>...</td>\n",
       "      <td>...</td>\n",
       "    </tr>\n",
       "    <tr>\n",
       "      <th>78959</th>\n",
       "      <td>0.0</td>\n",
       "      <td>0.30</td>\n",
       "      <td>0.38</td>\n",
       "      <td>0.00</td>\n",
       "      <td>0.86</td>\n",
       "      <td>1.0</td>\n",
       "      <td>0.0</td>\n",
       "      <td>0.00</td>\n",
       "    </tr>\n",
       "    <tr>\n",
       "      <th>78960</th>\n",
       "      <td>1.0</td>\n",
       "      <td>0.13</td>\n",
       "      <td>0.50</td>\n",
       "      <td>0.00</td>\n",
       "      <td>0.86</td>\n",
       "      <td>1.0</td>\n",
       "      <td>1.0</td>\n",
       "      <td>0.00</td>\n",
       "    </tr>\n",
       "    <tr>\n",
       "      <th>78961</th>\n",
       "      <td>0.0</td>\n",
       "      <td>0.25</td>\n",
       "      <td>0.12</td>\n",
       "      <td>0.33</td>\n",
       "      <td>0.57</td>\n",
       "      <td>1.0</td>\n",
       "      <td>0.0</td>\n",
       "      <td>0.22</td>\n",
       "    </tr>\n",
       "    <tr>\n",
       "      <th>78962</th>\n",
       "      <td>0.0</td>\n",
       "      <td>0.19</td>\n",
       "      <td>0.50</td>\n",
       "      <td>0.00</td>\n",
       "      <td>0.86</td>\n",
       "      <td>1.0</td>\n",
       "      <td>0.0</td>\n",
       "      <td>0.00</td>\n",
       "    </tr>\n",
       "    <tr>\n",
       "      <th>78963</th>\n",
       "      <td>0.0</td>\n",
       "      <td>0.18</td>\n",
       "      <td>0.38</td>\n",
       "      <td>0.44</td>\n",
       "      <td>0.86</td>\n",
       "      <td>1.0</td>\n",
       "      <td>0.0</td>\n",
       "      <td>0.00</td>\n",
       "    </tr>\n",
       "  </tbody>\n",
       "</table>\n",
       "<p>78964 rows × 8 columns</p>\n",
       "</div>"
      ],
      "text/plain": [
       "       Sex   Age  Education  Satisfaction_with_life  Employment_status  \\\n",
       "0      1.0  0.06       0.75                    0.78               0.71   \n",
       "1      0.0  0.10       0.75                    0.44               0.71   \n",
       "2      0.0  0.12       0.50                    0.33               0.29   \n",
       "3      0.0  0.14       0.62                    0.78               0.00   \n",
       "4      0.0  0.23       0.25                    0.78               0.29   \n",
       "...    ...   ...        ...                     ...                ...   \n",
       "78959  0.0  0.30       0.38                    0.00               0.86   \n",
       "78960  1.0  0.13       0.50                    0.00               0.86   \n",
       "78961  0.0  0.25       0.12                    0.33               0.57   \n",
       "78962  0.0  0.19       0.50                    0.00               0.86   \n",
       "78963  0.0  0.18       0.38                    0.44               0.86   \n",
       "\n",
       "       Religion  Interpersonal_trust  \\\n",
       "0           1.0                  0.0   \n",
       "1           1.0                  1.0   \n",
       "2           1.0                  1.0   \n",
       "3           1.0                  0.0   \n",
       "4           1.0                  0.0   \n",
       "...         ...                  ...   \n",
       "78959       1.0                  0.0   \n",
       "78960       1.0                  1.0   \n",
       "78961       1.0                  0.0   \n",
       "78962       1.0                  0.0   \n",
       "78963       1.0                  0.0   \n",
       "\n",
       "       dSatisfaction_with_financial_situation_of_household  \n",
       "0                                                   1.00    \n",
       "1                                                   1.00    \n",
       "2                                                   0.56    \n",
       "3                                                   0.56    \n",
       "4                                                   0.33    \n",
       "...                                                  ...    \n",
       "78959                                               0.00    \n",
       "78960                                               0.00    \n",
       "78961                                               0.22    \n",
       "78962                                               0.00    \n",
       "78963                                               0.00    \n",
       "\n",
       "[78964 rows x 8 columns]"
      ]
     },
     "execution_count": 290,
     "metadata": {},
     "output_type": "execute_result"
    }
   ],
   "source": [
    "# Feature Scaling\n",
    "from sklearn.preprocessing import MinMaxScaler\n",
    "sc = MinMaxScaler().fit(d3)\n",
    "d3 = sc.transform(d3)\n",
    "pd.DataFrame(d3, columns = ['Sex','Age','Education','Satisfaction_with_life','Employment_status','Religion','Interpersonal_trust','dSatisfaction_with_financial_situation_of_household']).round(2)"
   ]
  },
  {
   "cell_type": "code",
   "execution_count": 291,
   "metadata": {},
   "outputs": [
    {
     "data": {
      "image/png": "[encoded data removed]",
      "text/plain": [
       "<Figure size 432x288 with 1 Axes>"
      ]
     },
     "metadata": {
      "needs_background": "light"
     },
     "output_type": "display_data"
    }
   ],
   "source": [
    "# Using the elbow method to find the optimal number of clusters\n",
    "from sklearn.cluster import KMeans\n",
    "wcss = []\n",
    "for i in range(1, 15):\n",
    "    kmeans = KMeans(n_clusters = i, init = 'k-means++', random_state = 0)\n",
    "    kmeans.fit(d3)\n",
    "    wcss.append(kmeans.inertia_)\n",
    "plt.plot(range(1, 15), wcss)\n",
    "plt.title('The Elbow Method')\n",
    "plt.xlabel('Number of clusters')\n",
    "plt.ylabel('WCSS')\n",
    "plt.show()"
   ]
  },
  {
   "cell_type": "code",
   "execution_count": 292,
   "metadata": {},
   "outputs": [
    {
     "data": {
      "image/png": "[encoded data removed]",
      "text/plain": [
       "<Figure size 432x288 with 1 Axes>"
      ]
     },
     "metadata": {
      "needs_background": "light"
     },
     "output_type": "display_data"
    },
    {
     "name": "stdout",
     "output_type": "stream",
     "text": [
      "2:0.2713707501948417\n",
      "3:0.28798055988466387\n",
      "4:0.2975517880773451\n",
      "5:0.33435170815489196\n",
      "6:0.3464245186166792\n",
      "7:0.3067724507466539\n",
      "8:0.2987274653611441\n",
      "9:0.25488365163514703\n",
      "10:0.2851689316941956\n",
      "11:0.2848140634428477\n",
      "12:0.26920255949641897\n",
      "13:0.27023692973763297\n",
      "14:0.2612398758315869\n"
     ]
    }
   ],
   "source": [
    "# Using the silhouette method to find the optimal number of clusters\n",
    "from sklearn.metrics import silhouette_score\n",
    "\n",
    "sil = []\n",
    "\n",
    "for k in range(2, 15):\n",
    "  kmeans = KMeans(n_clusters = k).fit(d3)  \n",
    "  preds = kmeans.fit_predict(d3)\n",
    "  sil.append(silhouette_score(d3, preds, metric = 'euclidean'))\n",
    "\n",
    "\n",
    "plt.plot(range(2, 15), sil)\n",
    "plt.title('Silhouette Method')\n",
    "plt.xlabel('Number of clusters')\n",
    "plt.ylabel('Sil')\n",
    "plt.show()\n",
    "\n",
    "for i in range(len(sil)):\n",
    " print(str(i+2) +\":\"+ str(sil[i]))"
   ]
  },
  {
   "cell_type": "code",
   "execution_count": 294,
   "metadata": {},
   "outputs": [],
   "source": [
    "#максимальное значение показателя достигается при количестве кластеров = 6"
   ]
  },
  {
   "cell_type": "code",
   "execution_count": 295,
   "metadata": {},
   "outputs": [
    {
     "data": {
      "text/html": [
       "<div>\n",
       "<style scoped>\n",
       "    .dataframe tbody tr th:only-of-type {\n",
       "        vertical-align: middle;\n",
       "    }\n",
       "\n",
       "    .dataframe tbody tr th {\n",
       "        vertical-align: top;\n",
       "    }\n",
       "\n",
       "    .dataframe thead th {\n",
       "        text-align: right;\n",
       "    }\n",
       "</style>\n",
       "<table border=\"1\" class=\"dataframe\">\n",
       "  <thead>\n",
       "    <tr style=\"text-align: right;\">\n",
       "      <th></th>\n",
       "      <th>Sex</th>\n",
       "      <th>Age</th>\n",
       "      <th>Education</th>\n",
       "      <th>Satisfaction_with_life</th>\n",
       "      <th>Employment_status</th>\n",
       "      <th>Religion</th>\n",
       "      <th>Interpersonal_trust</th>\n",
       "      <th>Satisfaction_with_financial_situation_of_household</th>\n",
       "    </tr>\n",
       "  </thead>\n",
       "  <tbody>\n",
       "    <tr>\n",
       "      <th>0</th>\n",
       "      <td>1.00</td>\n",
       "      <td>0.30</td>\n",
       "      <td>0.57</td>\n",
       "      <td>0.63</td>\n",
       "      <td>0.31</td>\n",
       "      <td>1.00</td>\n",
       "      <td>0.0</td>\n",
       "      <td>0.53</td>\n",
       "    </tr>\n",
       "    <tr>\n",
       "      <th>1</th>\n",
       "      <td>1.00</td>\n",
       "      <td>0.33</td>\n",
       "      <td>0.64</td>\n",
       "      <td>0.67</td>\n",
       "      <td>0.27</td>\n",
       "      <td>0.69</td>\n",
       "      <td>1.0</td>\n",
       "      <td>0.59</td>\n",
       "    </tr>\n",
       "    <tr>\n",
       "      <th>2</th>\n",
       "      <td>0.00</td>\n",
       "      <td>0.36</td>\n",
       "      <td>0.32</td>\n",
       "      <td>0.55</td>\n",
       "      <td>0.52</td>\n",
       "      <td>1.00</td>\n",
       "      <td>0.0</td>\n",
       "      <td>0.41</td>\n",
       "    </tr>\n",
       "    <tr>\n",
       "      <th>3</th>\n",
       "      <td>0.00</td>\n",
       "      <td>0.34</td>\n",
       "      <td>0.63</td>\n",
       "      <td>0.69</td>\n",
       "      <td>0.34</td>\n",
       "      <td>0.73</td>\n",
       "      <td>1.0</td>\n",
       "      <td>0.59</td>\n",
       "    </tr>\n",
       "    <tr>\n",
       "      <th>4</th>\n",
       "      <td>0.00</td>\n",
       "      <td>0.26</td>\n",
       "      <td>0.75</td>\n",
       "      <td>0.73</td>\n",
       "      <td>0.31</td>\n",
       "      <td>1.00</td>\n",
       "      <td>0.0</td>\n",
       "      <td>0.63</td>\n",
       "    </tr>\n",
       "    <tr>\n",
       "      <th>5</th>\n",
       "      <td>0.53</td>\n",
       "      <td>0.32</td>\n",
       "      <td>0.62</td>\n",
       "      <td>0.65</td>\n",
       "      <td>0.30</td>\n",
       "      <td>-0.00</td>\n",
       "      <td>0.0</td>\n",
       "      <td>0.54</td>\n",
       "    </tr>\n",
       "  </tbody>\n",
       "</table>\n",
       "</div>"
      ],
      "text/plain": [
       "    Sex   Age  Education  Satisfaction_with_life  Employment_status  Religion  \\\n",
       "0  1.00  0.30       0.57                    0.63               0.31      1.00   \n",
       "1  1.00  0.33       0.64                    0.67               0.27      0.69   \n",
       "2  0.00  0.36       0.32                    0.55               0.52      1.00   \n",
       "3  0.00  0.34       0.63                    0.69               0.34      0.73   \n",
       "4  0.00  0.26       0.75                    0.73               0.31      1.00   \n",
       "5  0.53  0.32       0.62                    0.65               0.30     -0.00   \n",
       "\n",
       "   Interpersonal_trust  Satisfaction_with_financial_situation_of_household  \n",
       "0                  0.0                                               0.53   \n",
       "1                  1.0                                               0.59   \n",
       "2                  0.0                                               0.41   \n",
       "3                  1.0                                               0.59   \n",
       "4                  0.0                                               0.63   \n",
       "5                  0.0                                               0.54   "
      ]
     },
     "execution_count": 295,
     "metadata": {},
     "output_type": "execute_result"
    }
   ],
   "source": [
    "# Fitting K-Means to the dataset\n",
    "km = KMeans(n_clusters = 6, init = 'k-means++', random_state = 0).fit_predict(d3)\n",
    "kms = KMeans(n_clusters = 6, random_state = 0).fit(d3)\n",
    "pd.DataFrame(kms.cluster_centers_, columns = ['Sex','Age','Education','Satisfaction_with_life','Employment_status','Religion','Interpersonal_trust','Satisfaction_with_financial_situation_of_household']).round(2)"
   ]
  },
  {
   "cell_type": "code",
   "execution_count": 296,
   "metadata": {},
   "outputs": [
    {
     "data": {
      "text/html": [
       "<div>\n",
       "<style scoped>\n",
       "    .dataframe tbody tr th:only-of-type {\n",
       "        vertical-align: middle;\n",
       "    }\n",
       "\n",
       "    .dataframe tbody tr th {\n",
       "        vertical-align: top;\n",
       "    }\n",
       "\n",
       "    .dataframe thead th {\n",
       "        text-align: right;\n",
       "    }\n",
       "</style>\n",
       "<table border=\"1\" class=\"dataframe\">\n",
       "  <thead>\n",
       "    <tr style=\"text-align: right;\">\n",
       "      <th></th>\n",
       "      <th>Sex</th>\n",
       "      <th>Age</th>\n",
       "      <th>Education</th>\n",
       "      <th>Satisfaction_with_life</th>\n",
       "      <th>Employment_status</th>\n",
       "      <th>Religion</th>\n",
       "      <th>Interpersonal_trust</th>\n",
       "      <th>Satisfaction_with_financial_situation_of_household</th>\n",
       "    </tr>\n",
       "  </thead>\n",
       "  <tbody>\n",
       "    <tr>\n",
       "      <th>0</th>\n",
       "      <td>1.000000e+00</td>\n",
       "      <td>0.299267</td>\n",
       "      <td>0.569657</td>\n",
       "      <td>0.633524</td>\n",
       "      <td>0.311913</td>\n",
       "      <td>1.000000e+00</td>\n",
       "      <td>5.773160e-15</td>\n",
       "      <td>0.531657</td>\n",
       "    </tr>\n",
       "    <tr>\n",
       "      <th>1</th>\n",
       "      <td>1.000000e+00</td>\n",
       "      <td>0.331324</td>\n",
       "      <td>0.644270</td>\n",
       "      <td>0.674515</td>\n",
       "      <td>0.268767</td>\n",
       "      <td>6.862293e-01</td>\n",
       "      <td>1.000000e+00</td>\n",
       "      <td>0.588626</td>\n",
       "    </tr>\n",
       "    <tr>\n",
       "      <th>2</th>\n",
       "      <td>8.881784e-15</td>\n",
       "      <td>0.357092</td>\n",
       "      <td>0.324724</td>\n",
       "      <td>0.554294</td>\n",
       "      <td>0.521344</td>\n",
       "      <td>9.998486e-01</td>\n",
       "      <td>5.273559e-15</td>\n",
       "      <td>0.409838</td>\n",
       "    </tr>\n",
       "    <tr>\n",
       "      <th>3</th>\n",
       "      <td>2.220446e-16</td>\n",
       "      <td>0.341671</td>\n",
       "      <td>0.632120</td>\n",
       "      <td>0.685252</td>\n",
       "      <td>0.337652</td>\n",
       "      <td>7.274274e-01</td>\n",
       "      <td>1.000000e+00</td>\n",
       "      <td>0.587955</td>\n",
       "    </tr>\n",
       "    <tr>\n",
       "      <th>4</th>\n",
       "      <td>1.049161e-14</td>\n",
       "      <td>0.262119</td>\n",
       "      <td>0.745345</td>\n",
       "      <td>0.728196</td>\n",
       "      <td>0.305033</td>\n",
       "      <td>1.000000e+00</td>\n",
       "      <td>5.329071e-15</td>\n",
       "      <td>0.633792</td>\n",
       "    </tr>\n",
       "    <tr>\n",
       "      <th>5</th>\n",
       "      <td>5.349321e-01</td>\n",
       "      <td>0.317418</td>\n",
       "      <td>0.618840</td>\n",
       "      <td>0.650192</td>\n",
       "      <td>0.302015</td>\n",
       "      <td>-1.065814e-14</td>\n",
       "      <td>4.773959e-15</td>\n",
       "      <td>0.543315</td>\n",
       "    </tr>\n",
       "  </tbody>\n",
       "</table>\n",
       "</div>"
      ],
      "text/plain": [
       "            Sex       Age  Education  Satisfaction_with_life  \\\n",
       "0  1.000000e+00  0.299267   0.569657                0.633524   \n",
       "1  1.000000e+00  0.331324   0.644270                0.674515   \n",
       "2  8.881784e-15  0.357092   0.324724                0.554294   \n",
       "3  2.220446e-16  0.341671   0.632120                0.685252   \n",
       "4  1.049161e-14  0.262119   0.745345                0.728196   \n",
       "5  5.349321e-01  0.317418   0.618840                0.650192   \n",
       "\n",
       "   Employment_status      Religion  Interpersonal_trust  \\\n",
       "0           0.311913  1.000000e+00         5.773160e-15   \n",
       "1           0.268767  6.862293e-01         1.000000e+00   \n",
       "2           0.521344  9.998486e-01         5.273559e-15   \n",
       "3           0.337652  7.274274e-01         1.000000e+00   \n",
       "4           0.305033  1.000000e+00         5.329071e-15   \n",
       "5           0.302015 -1.065814e-14         4.773959e-15   \n",
       "\n",
       "   Satisfaction_with_financial_situation_of_household  \n",
       "0                                           0.531657   \n",
       "1                                           0.588626   \n",
       "2                                           0.409838   \n",
       "3                                           0.587955   \n",
       "4                                           0.633792   \n",
       "5                                           0.543315   "
      ]
     },
     "execution_count": 296,
     "metadata": {},
     "output_type": "execute_result"
    }
   ],
   "source": [
    "km = KMeans(n_clusters = 6, init = 'k-means++', random_state = 0).fit_predict(d3)\n",
    "kms = KMeans(n_clusters = 6, random_state = 0).fit(d3)\n",
    "pd.DataFrame(kms.cluster_centers_, columns = ['Sex','Age','Education','Satisfaction_with_life','Employment_status','Religion','Interpersonal_trust','Satisfaction_with_financial_situation_of_household'])"
   ]
  },
  {
   "cell_type": "code",
   "execution_count": 297,
   "metadata": {},
   "outputs": [],
   "source": [
    "# Less features\n",
    "X = d3[:, [0, 2, 4, 6, 7]]"
   ]
  },
  {
   "cell_type": "code",
   "execution_count": 298,
   "metadata": {},
   "outputs": [
    {
     "data": {
      "text/html": [
       "<div>\n",
       "<style scoped>\n",
       "    .dataframe tbody tr th:only-of-type {\n",
       "        vertical-align: middle;\n",
       "    }\n",
       "\n",
       "    .dataframe tbody tr th {\n",
       "        vertical-align: top;\n",
       "    }\n",
       "\n",
       "    .dataframe thead th {\n",
       "        text-align: right;\n",
       "    }\n",
       "</style>\n",
       "<table border=\"1\" class=\"dataframe\">\n",
       "  <thead>\n",
       "    <tr style=\"text-align: right;\">\n",
       "      <th></th>\n",
       "      <th>Sex</th>\n",
       "      <th>Education</th>\n",
       "      <th>Employment_status</th>\n",
       "      <th>Interpersonal_trust</th>\n",
       "      <th>Satisfaction_with_financial_situation_of_household</th>\n",
       "    </tr>\n",
       "  </thead>\n",
       "  <tbody>\n",
       "    <tr>\n",
       "      <th>0</th>\n",
       "      <td>0.0</td>\n",
       "      <td>0.72</td>\n",
       "      <td>0.11</td>\n",
       "      <td>0.0</td>\n",
       "      <td>0.57</td>\n",
       "    </tr>\n",
       "    <tr>\n",
       "      <th>1</th>\n",
       "      <td>1.0</td>\n",
       "      <td>0.46</td>\n",
       "      <td>0.62</td>\n",
       "      <td>0.0</td>\n",
       "      <td>0.48</td>\n",
       "    </tr>\n",
       "    <tr>\n",
       "      <th>2</th>\n",
       "      <td>0.0</td>\n",
       "      <td>0.63</td>\n",
       "      <td>0.34</td>\n",
       "      <td>1.0</td>\n",
       "      <td>0.59</td>\n",
       "    </tr>\n",
       "    <tr>\n",
       "      <th>3</th>\n",
       "      <td>1.0</td>\n",
       "      <td>0.64</td>\n",
       "      <td>0.27</td>\n",
       "      <td>1.0</td>\n",
       "      <td>0.59</td>\n",
       "    </tr>\n",
       "    <tr>\n",
       "      <th>4</th>\n",
       "      <td>0.0</td>\n",
       "      <td>0.44</td>\n",
       "      <td>0.59</td>\n",
       "      <td>0.0</td>\n",
       "      <td>0.50</td>\n",
       "    </tr>\n",
       "    <tr>\n",
       "      <th>5</th>\n",
       "      <td>1.0</td>\n",
       "      <td>0.66</td>\n",
       "      <td>0.10</td>\n",
       "      <td>0.0</td>\n",
       "      <td>0.57</td>\n",
       "    </tr>\n",
       "  </tbody>\n",
       "</table>\n",
       "</div>"
      ],
      "text/plain": [
       "   Sex  Education  Employment_status  Interpersonal_trust  \\\n",
       "0  0.0       0.72               0.11                  0.0   \n",
       "1  1.0       0.46               0.62                  0.0   \n",
       "2  0.0       0.63               0.34                  1.0   \n",
       "3  1.0       0.64               0.27                  1.0   \n",
       "4  0.0       0.44               0.59                  0.0   \n",
       "5  1.0       0.66               0.10                  0.0   \n",
       "\n",
       "   Satisfaction_with_financial_situation_of_household  \n",
       "0                                               0.57   \n",
       "1                                               0.48   \n",
       "2                                               0.59   \n",
       "3                                               0.59   \n",
       "4                                               0.50   \n",
       "5                                               0.57   "
      ]
     },
     "execution_count": 298,
     "metadata": {},
     "output_type": "execute_result"
    }
   ],
   "source": [
    "# Fitting K-Means to the dataset\n",
    "km = KMeans(n_clusters = 6, init = 'k-means++', random_state = 0).fit_predict(X)\n",
    "kms = KMeans(n_clusters = 6, random_state = 0).fit(X)\n",
    "pd.DataFrame(kms.cluster_centers_, columns = ['Sex', 'Education', 'Employment_status', 'Interpersonal_trust', 'Satisfaction_with_financial_situation_of_household']).round(2)"
   ]
  }
 ],
 "metadata": {
  "kernelspec": {
   "display_name": "Python 3",
   "language": "python",
   "name": "python3"
  },
  "language_info": {
   "codemirror_mode": {
    "name": "ipython",
    "version": 3
   },
   "file_extension": ".py",
   "mimetype": "text/x-python",
   "name": "python",
   "nbconvert_exporter": "python",
   "pygments_lexer": "ipython3",
   "version": "3.7.9"
  }
 },
 "nbformat": 4,
 "nbformat_minor": 4
}
