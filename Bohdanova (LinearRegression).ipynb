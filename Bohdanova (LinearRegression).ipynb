{
 "cells": [
  {
   "cell_type": "code",
   "execution_count": 34,
   "metadata": {},
   "outputs": [],
   "source": [
    "# Data preprocessing  \n",
    "#importing the libraries\n",
    "\n",
    "import pandas as pd\n",
    "import matplotlib.pyplot as plt\n",
    "import numpy as np"
   ]
  },
  {
   "cell_type": "code",
   "execution_count": 35,
   "metadata": {},
   "outputs": [],
   "source": [
    "f = pd.ExcelFile('wgm2018-dataset-crosstabs-all-countries.xlsx')\n",
    "df = f.parse('Full dataset', na_values=[' '])"
   ]
  },
  {
   "cell_type": "code",
   "execution_count": 36,
   "metadata": {},
   "outputs": [],
   "source": [
    "shp = df[[\"Q11A\", \"Age\", \"Gender\", \"Education\",\"Urban_Rural\", \"Household_Income\",\"Regions_Report\",\"WBI\",\"Subjective_Income\",\"EMP_2010\"]]"
   ]
  },
  {
   "cell_type": "code",
   "execution_count": 41,
   "metadata": {},
   "outputs": [],
   "source": [
    "shp = shp.rename(columns={\"Q11A\": \"Interpersonal_trust\"})"
   ]
  },
  {
   "cell_type": "code",
   "execution_count": 42,
   "metadata": {},
   "outputs": [
    {
     "data": {
      "text/html": [
       "<div>\n",
       "<style scoped>\n",
       "    .dataframe tbody tr th:only-of-type {\n",
       "        vertical-align: middle;\n",
       "    }\n",
       "\n",
       "    .dataframe tbody tr th {\n",
       "        vertical-align: top;\n",
       "    }\n",
       "\n",
       "    .dataframe thead th {\n",
       "        text-align: right;\n",
       "    }\n",
       "</style>\n",
       "<table border=\"1\" class=\"dataframe\">\n",
       "  <thead>\n",
       "    <tr style=\"text-align: right;\">\n",
       "      <th></th>\n",
       "      <th>Interpersonal_trust</th>\n",
       "      <th>Age</th>\n",
       "      <th>Gender</th>\n",
       "      <th>Education</th>\n",
       "      <th>Urban_Rural</th>\n",
       "      <th>Household_Income</th>\n",
       "      <th>Regions_Report</th>\n",
       "      <th>WBI</th>\n",
       "      <th>Subjective_Income</th>\n",
       "      <th>EMP_2010</th>\n",
       "    </tr>\n",
       "  </thead>\n",
       "  <tbody>\n",
       "    <tr>\n",
       "      <th>count</th>\n",
       "      <td>149014.000000</td>\n",
       "      <td>149008.000000</td>\n",
       "      <td>149014.000000</td>\n",
       "      <td>148258.000000</td>\n",
       "      <td>148701.000000</td>\n",
       "      <td>146014.000000</td>\n",
       "      <td>149014.000000</td>\n",
       "      <td>148014.000000</td>\n",
       "      <td>146039.000000</td>\n",
       "      <td>149012.000000</td>\n",
       "    </tr>\n",
       "    <tr>\n",
       "      <th>mean</th>\n",
       "      <td>4.534909</td>\n",
       "      <td>42.242457</td>\n",
       "      <td>1.532386</td>\n",
       "      <td>1.863960</td>\n",
       "      <td>1.409661</td>\n",
       "      <td>3.185790</td>\n",
       "      <td>9.511314</td>\n",
       "      <td>2.712824</td>\n",
       "      <td>2.183335</td>\n",
       "      <td>3.682073</td>\n",
       "    </tr>\n",
       "    <tr>\n",
       "      <th>std</th>\n",
       "      <td>15.444020</td>\n",
       "      <td>18.345402</td>\n",
       "      <td>0.498952</td>\n",
       "      <td>0.686049</td>\n",
       "      <td>0.491773</td>\n",
       "      <td>1.422278</td>\n",
       "      <td>5.123745</td>\n",
       "      <td>1.073389</td>\n",
       "      <td>0.749539</td>\n",
       "      <td>2.117219</td>\n",
       "    </tr>\n",
       "    <tr>\n",
       "      <th>min</th>\n",
       "      <td>1.000000</td>\n",
       "      <td>15.000000</td>\n",
       "      <td>1.000000</td>\n",
       "      <td>1.000000</td>\n",
       "      <td>1.000000</td>\n",
       "      <td>1.000000</td>\n",
       "      <td>0.000000</td>\n",
       "      <td>1.000000</td>\n",
       "      <td>1.000000</td>\n",
       "      <td>1.000000</td>\n",
       "    </tr>\n",
       "    <tr>\n",
       "      <th>25%</th>\n",
       "      <td>1.000000</td>\n",
       "      <td>27.000000</td>\n",
       "      <td>1.000000</td>\n",
       "      <td>1.000000</td>\n",
       "      <td>1.000000</td>\n",
       "      <td>2.000000</td>\n",
       "      <td>5.000000</td>\n",
       "      <td>2.000000</td>\n",
       "      <td>2.000000</td>\n",
       "      <td>1.000000</td>\n",
       "    </tr>\n",
       "    <tr>\n",
       "      <th>50%</th>\n",
       "      <td>2.000000</td>\n",
       "      <td>39.000000</td>\n",
       "      <td>2.000000</td>\n",
       "      <td>2.000000</td>\n",
       "      <td>1.000000</td>\n",
       "      <td>3.000000</td>\n",
       "      <td>10.000000</td>\n",
       "      <td>3.000000</td>\n",
       "      <td>2.000000</td>\n",
       "      <td>4.000000</td>\n",
       "    </tr>\n",
       "    <tr>\n",
       "      <th>75%</th>\n",
       "      <td>3.000000</td>\n",
       "      <td>56.000000</td>\n",
       "      <td>2.000000</td>\n",
       "      <td>2.000000</td>\n",
       "      <td>2.000000</td>\n",
       "      <td>4.000000</td>\n",
       "      <td>14.000000</td>\n",
       "      <td>4.000000</td>\n",
       "      <td>3.000000</td>\n",
       "      <td>6.000000</td>\n",
       "    </tr>\n",
       "    <tr>\n",
       "      <th>max</th>\n",
       "      <td>99.000000</td>\n",
       "      <td>100.000000</td>\n",
       "      <td>2.000000</td>\n",
       "      <td>3.000000</td>\n",
       "      <td>2.000000</td>\n",
       "      <td>5.000000</td>\n",
       "      <td>18.000000</td>\n",
       "      <td>4.000000</td>\n",
       "      <td>3.000000</td>\n",
       "      <td>6.000000</td>\n",
       "    </tr>\n",
       "  </tbody>\n",
       "</table>\n",
       "</div>"
      ],
      "text/plain": [
       "       Interpersonal_trust            Age         Gender      Education  \\\n",
       "count        149014.000000  149008.000000  149014.000000  148258.000000   \n",
       "mean              4.534909      42.242457       1.532386       1.863960   \n",
       "std              15.444020      18.345402       0.498952       0.686049   \n",
       "min               1.000000      15.000000       1.000000       1.000000   \n",
       "25%               1.000000      27.000000       1.000000       1.000000   \n",
       "50%               2.000000      39.000000       2.000000       2.000000   \n",
       "75%               3.000000      56.000000       2.000000       2.000000   \n",
       "max              99.000000     100.000000       2.000000       3.000000   \n",
       "\n",
       "         Urban_Rural  Household_Income  Regions_Report            WBI  \\\n",
       "count  148701.000000     146014.000000   149014.000000  148014.000000   \n",
       "mean        1.409661          3.185790        9.511314       2.712824   \n",
       "std         0.491773          1.422278        5.123745       1.073389   \n",
       "min         1.000000          1.000000        0.000000       1.000000   \n",
       "25%         1.000000          2.000000        5.000000       2.000000   \n",
       "50%         1.000000          3.000000       10.000000       3.000000   \n",
       "75%         2.000000          4.000000       14.000000       4.000000   \n",
       "max         2.000000          5.000000       18.000000       4.000000   \n",
       "\n",
       "       Subjective_Income       EMP_2010  \n",
       "count      146039.000000  149012.000000  \n",
       "mean            2.183335       3.682073  \n",
       "std             0.749539       2.117219  \n",
       "min             1.000000       1.000000  \n",
       "25%             2.000000       1.000000  \n",
       "50%             2.000000       4.000000  \n",
       "75%             3.000000       6.000000  \n",
       "max             3.000000       6.000000  "
      ]
     },
     "execution_count": 42,
     "metadata": {},
     "output_type": "execute_result"
    }
   ],
   "source": [
    "shp.describe(include='all')"
   ]
  },
  {
   "cell_type": "code",
   "execution_count": 38,
   "metadata": {},
   "outputs": [],
   "source": [
    "#from pandasgui import show"
   ]
  },
  {
   "cell_type": "code",
   "execution_count": 39,
   "metadata": {},
   "outputs": [],
   "source": [
    "#show(shp)"
   ]
  },
  {
   "cell_type": "code",
   "execution_count": 43,
   "metadata": {},
   "outputs": [],
   "source": [
    "d2=shp.dropna()\n",
    "d2 = d2[d2[\"Interpersonal_trust\"] <97]"
   ]
  },
  {
   "cell_type": "code",
   "execution_count": 44,
   "metadata": {},
   "outputs": [
    {
     "data": {
      "text/plain": [
       "<AxesSubplot:ylabel='Frequency'>"
      ]
     },
     "execution_count": 44,
     "metadata": {},
     "output_type": "execute_result"
    },
    {
     "data": {
      "image/png": "[encoded data removed]",
      "text/plain": [
       "<Figure size 432x288 with 1 Axes>"
      ]
     },
     "metadata": {
      "needs_background": "light"
     },
     "output_type": "display_data"
    }
   ],
   "source": [
    "# Age distribution\n",
    "d2['Age'].plot(kind = 'hist')"
   ]
  },
  {
   "cell_type": "code",
   "execution_count": 45,
   "metadata": {},
   "outputs": [
    {
     "data": {
      "text/plain": [
       "<AxesSubplot:>"
      ]
     },
     "execution_count": 45,
     "metadata": {},
     "output_type": "execute_result"
    },
    {
     "data": {
      "image/png": "[encoded data removed]",
      "text/plain": [
       "<Figure size 432x288 with 1 Axes>"
      ]
     },
     "metadata": {
      "needs_background": "light"
     },
     "output_type": "display_data"
    }
   ],
   "source": [
    "#Gender distribution\n",
    "distribution = d2['Gender'].value_counts()\n",
    "distribution.plot(kind='bar')"
   ]
  },
  {
   "cell_type": "code",
   "execution_count": 46,
   "metadata": {},
   "outputs": [
    {
     "data": {
      "text/plain": [
       "<AxesSubplot:>"
      ]
     },
     "execution_count": 46,
     "metadata": {},
     "output_type": "execute_result"
    },
    {
     "data": {
      "image/png": "[encoded data removed]",
      "text/plain": [
       "<Figure size 432x288 with 1 Axes>"
      ]
     },
     "metadata": {
      "needs_background": "light"
     },
     "output_type": "display_data"
    }
   ],
   "source": [
    "#Education distribution\n",
    "distribution = d2['Education'].value_counts()\n",
    "distribution.plot(kind='bar')"
   ]
  },
  {
   "cell_type": "code",
   "execution_count": 47,
   "metadata": {},
   "outputs": [
    {
     "data": {
      "text/plain": [
       "<AxesSubplot:>"
      ]
     },
     "execution_count": 47,
     "metadata": {},
     "output_type": "execute_result"
    },
    {
     "data": {
      "image/png": "[encoded data removed]",
      "text/plain": [
       "<Figure size 432x288 with 1 Axes>"
      ]
     },
     "metadata": {
      "needs_background": "light"
     },
     "output_type": "display_data"
    }
   ],
   "source": [
    "#Urban_Rural distribution\n",
    "distribution = d2['Urban_Rural'].value_counts()\n",
    "distribution.plot(kind='bar')"
   ]
  },
  {
   "cell_type": "code",
   "execution_count": 48,
   "metadata": {},
   "outputs": [
    {
     "data": {
      "text/plain": [
       "<AxesSubplot:>"
      ]
     },
     "execution_count": 48,
     "metadata": {},
     "output_type": "execute_result"
    },
    {
     "data": {
      "image/png": "[encoded data removed]",
      "text/plain": [
       "<Figure size 432x288 with 1 Axes>"
      ]
     },
     "metadata": {
      "needs_background": "light"
     },
     "output_type": "display_data"
    }
   ],
   "source": [
    "#Household_Income distribution\n",
    "distribution = d2['Household_Income'].value_counts()\n",
    "distribution.plot(kind='bar')"
   ]
  },
  {
   "cell_type": "code",
   "execution_count": 49,
   "metadata": {},
   "outputs": [
    {
     "data": {
      "text/plain": [
       "<AxesSubplot:>"
      ]
     },
     "execution_count": 49,
     "metadata": {},
     "output_type": "execute_result"
    },
    {
     "data": {
      "image/png": "[encoded data removed]",
      "text/plain": [
       "<Figure size 432x288 with 1 Axes>"
      ]
     },
     "metadata": {
      "needs_background": "light"
     },
     "output_type": "display_data"
    }
   ],
   "source": [
    "#WBI distribution\n",
    "distribution = d2['WBI'].value_counts()\n",
    "distribution.plot(kind='bar')"
   ]
  },
  {
   "cell_type": "code",
   "execution_count": 50,
   "metadata": {},
   "outputs": [
    {
     "data": {
      "text/plain": [
       "<AxesSubplot:>"
      ]
     },
     "execution_count": 50,
     "metadata": {},
     "output_type": "execute_result"
    },
    {
     "data": {
      "image/png": "[encoded data removed]",
      "text/plain": [
       "<Figure size 432x288 with 1 Axes>"
      ]
     },
     "metadata": {
      "needs_background": "light"
     },
     "output_type": "display_data"
    }
   ],
   "source": [
    "#Subjective_Income\n",
    "distribution = d2['Subjective_Income'].value_counts()\n",
    "distribution.plot(kind='bar')"
   ]
  },
  {
   "cell_type": "code",
   "execution_count": 51,
   "metadata": {},
   "outputs": [
    {
     "data": {
      "text/plain": [
       "<AxesSubplot:>"
      ]
     },
     "execution_count": 51,
     "metadata": {},
     "output_type": "execute_result"
    },
    {
     "data": {
      "image/png": "[encoded data removed]",
      "text/plain": [
       "<Figure size 432x288 with 1 Axes>"
      ]
     },
     "metadata": {
      "needs_background": "light"
     },
     "output_type": "display_data"
    }
   ],
   "source": [
    "#Subjective_Income\n",
    "distribution = d2['EMP_2010'].value_counts()\n",
    "distribution.plot(kind='bar')"
   ]
  },
  {
   "cell_type": "code",
   "execution_count": 52,
   "metadata": {},
   "outputs": [
    {
     "data": {
      "text/plain": [
       "<AxesSubplot:>"
      ]
     },
     "execution_count": 52,
     "metadata": {},
     "output_type": "execute_result"
    },
    {
     "data": {
      "image/png": "[encoded data removed]",
      "text/plain": [
       "<Figure size 432x288 with 1 Axes>"
      ]
     },
     "metadata": {
      "needs_background": "light"
     },
     "output_type": "display_data"
    }
   ],
   "source": [
    "#Subjective_Income\n",
    "distribution = d2['Interpersonal_trust'].value_counts()\n",
    "distribution.plot(kind='bar')"
   ]
  },
  {
   "cell_type": "code",
   "execution_count": 53,
   "metadata": {},
   "outputs": [
    {
     "data": {
      "text/html": [
       "<div>\n",
       "<style scoped>\n",
       "    .dataframe tbody tr th:only-of-type {\n",
       "        vertical-align: middle;\n",
       "    }\n",
       "\n",
       "    .dataframe tbody tr th {\n",
       "        vertical-align: top;\n",
       "    }\n",
       "\n",
       "    .dataframe thead th {\n",
       "        text-align: right;\n",
       "    }\n",
       "</style>\n",
       "<table border=\"1\" class=\"dataframe\">\n",
       "  <thead>\n",
       "    <tr style=\"text-align: right;\">\n",
       "      <th></th>\n",
       "      <th>Interpersonal_trust</th>\n",
       "      <th>Age</th>\n",
       "      <th>Gender</th>\n",
       "      <th>Education</th>\n",
       "      <th>Urban_Rural</th>\n",
       "      <th>Household_Income</th>\n",
       "      <th>Regions_Report</th>\n",
       "      <th>WBI</th>\n",
       "      <th>Subjective_Income</th>\n",
       "      <th>EMP_2010</th>\n",
       "    </tr>\n",
       "  </thead>\n",
       "  <tbody>\n",
       "    <tr>\n",
       "      <th>count</th>\n",
       "      <td>138050.000000</td>\n",
       "      <td>138050.000000</td>\n",
       "      <td>138050.000000</td>\n",
       "      <td>138050.000000</td>\n",
       "      <td>138050.000000</td>\n",
       "      <td>138050.000000</td>\n",
       "      <td>138050.000000</td>\n",
       "      <td>138050.000000</td>\n",
       "      <td>138050.000000</td>\n",
       "      <td>138050.000000</td>\n",
       "    </tr>\n",
       "    <tr>\n",
       "      <th>mean</th>\n",
       "      <td>1.991612</td>\n",
       "      <td>42.259536</td>\n",
       "      <td>1.532054</td>\n",
       "      <td>1.870779</td>\n",
       "      <td>1.409134</td>\n",
       "      <td>3.197805</td>\n",
       "      <td>9.683933</td>\n",
       "      <td>2.728939</td>\n",
       "      <td>2.178051</td>\n",
       "      <td>3.662296</td>\n",
       "    </tr>\n",
       "    <tr>\n",
       "      <th>std</th>\n",
       "      <td>0.899753</td>\n",
       "      <td>18.190976</td>\n",
       "      <td>0.498973</td>\n",
       "      <td>0.683421</td>\n",
       "      <td>0.491676</td>\n",
       "      <td>1.418922</td>\n",
       "      <td>5.098420</td>\n",
       "      <td>1.071544</td>\n",
       "      <td>0.749521</td>\n",
       "      <td>2.122641</td>\n",
       "    </tr>\n",
       "    <tr>\n",
       "      <th>min</th>\n",
       "      <td>1.000000</td>\n",
       "      <td>15.000000</td>\n",
       "      <td>1.000000</td>\n",
       "      <td>1.000000</td>\n",
       "      <td>1.000000</td>\n",
       "      <td>1.000000</td>\n",
       "      <td>0.000000</td>\n",
       "      <td>1.000000</td>\n",
       "      <td>1.000000</td>\n",
       "      <td>1.000000</td>\n",
       "    </tr>\n",
       "    <tr>\n",
       "      <th>25%</th>\n",
       "      <td>1.000000</td>\n",
       "      <td>27.000000</td>\n",
       "      <td>1.000000</td>\n",
       "      <td>1.000000</td>\n",
       "      <td>1.000000</td>\n",
       "      <td>2.000000</td>\n",
       "      <td>5.000000</td>\n",
       "      <td>2.000000</td>\n",
       "      <td>2.000000</td>\n",
       "      <td>1.000000</td>\n",
       "    </tr>\n",
       "    <tr>\n",
       "      <th>50%</th>\n",
       "      <td>2.000000</td>\n",
       "      <td>39.000000</td>\n",
       "      <td>2.000000</td>\n",
       "      <td>2.000000</td>\n",
       "      <td>1.000000</td>\n",
       "      <td>3.000000</td>\n",
       "      <td>10.000000</td>\n",
       "      <td>3.000000</td>\n",
       "      <td>2.000000</td>\n",
       "      <td>4.000000</td>\n",
       "    </tr>\n",
       "    <tr>\n",
       "      <th>75%</th>\n",
       "      <td>2.000000</td>\n",
       "      <td>56.000000</td>\n",
       "      <td>2.000000</td>\n",
       "      <td>2.000000</td>\n",
       "      <td>2.000000</td>\n",
       "      <td>4.000000</td>\n",
       "      <td>14.000000</td>\n",
       "      <td>4.000000</td>\n",
       "      <td>3.000000</td>\n",
       "      <td>6.000000</td>\n",
       "    </tr>\n",
       "    <tr>\n",
       "      <th>max</th>\n",
       "      <td>4.000000</td>\n",
       "      <td>100.000000</td>\n",
       "      <td>2.000000</td>\n",
       "      <td>3.000000</td>\n",
       "      <td>2.000000</td>\n",
       "      <td>5.000000</td>\n",
       "      <td>18.000000</td>\n",
       "      <td>4.000000</td>\n",
       "      <td>3.000000</td>\n",
       "      <td>6.000000</td>\n",
       "    </tr>\n",
       "  </tbody>\n",
       "</table>\n",
       "</div>"
      ],
      "text/plain": [
       "       Interpersonal_trust            Age         Gender      Education  \\\n",
       "count        138050.000000  138050.000000  138050.000000  138050.000000   \n",
       "mean              1.991612      42.259536       1.532054       1.870779   \n",
       "std               0.899753      18.190976       0.498973       0.683421   \n",
       "min               1.000000      15.000000       1.000000       1.000000   \n",
       "25%               1.000000      27.000000       1.000000       1.000000   \n",
       "50%               2.000000      39.000000       2.000000       2.000000   \n",
       "75%               2.000000      56.000000       2.000000       2.000000   \n",
       "max               4.000000     100.000000       2.000000       3.000000   \n",
       "\n",
       "         Urban_Rural  Household_Income  Regions_Report            WBI  \\\n",
       "count  138050.000000     138050.000000   138050.000000  138050.000000   \n",
       "mean        1.409134          3.197805        9.683933       2.728939   \n",
       "std         0.491676          1.418922        5.098420       1.071544   \n",
       "min         1.000000          1.000000        0.000000       1.000000   \n",
       "25%         1.000000          2.000000        5.000000       2.000000   \n",
       "50%         1.000000          3.000000       10.000000       3.000000   \n",
       "75%         2.000000          4.000000       14.000000       4.000000   \n",
       "max         2.000000          5.000000       18.000000       4.000000   \n",
       "\n",
       "       Subjective_Income       EMP_2010  \n",
       "count      138050.000000  138050.000000  \n",
       "mean            2.178051       3.662296  \n",
       "std             0.749521       2.122641  \n",
       "min             1.000000       1.000000  \n",
       "25%             2.000000       1.000000  \n",
       "50%             2.000000       4.000000  \n",
       "75%             3.000000       6.000000  \n",
       "max             3.000000       6.000000  "
      ]
     },
     "execution_count": 53,
     "metadata": {},
     "output_type": "execute_result"
    }
   ],
   "source": [
    "d2.describe()"
   ]
  },
  {
   "cell_type": "code",
   "execution_count": 54,
   "metadata": {},
   "outputs": [
    {
     "data": {
      "text/html": [
       "<div>\n",
       "<style scoped>\n",
       "    .dataframe tbody tr th:only-of-type {\n",
       "        vertical-align: middle;\n",
       "    }\n",
       "\n",
       "    .dataframe tbody tr th {\n",
       "        vertical-align: top;\n",
       "    }\n",
       "\n",
       "    .dataframe thead th {\n",
       "        text-align: right;\n",
       "    }\n",
       "</style>\n",
       "<table border=\"1\" class=\"dataframe\">\n",
       "  <thead>\n",
       "    <tr style=\"text-align: right;\">\n",
       "      <th></th>\n",
       "      <th>Interpersonal_trust</th>\n",
       "      <th>Age</th>\n",
       "      <th>Gender</th>\n",
       "      <th>Education</th>\n",
       "      <th>Urban_Rural</th>\n",
       "      <th>Household_Income</th>\n",
       "      <th>Regions_Report</th>\n",
       "      <th>WBI</th>\n",
       "      <th>Subjective_Income</th>\n",
       "      <th>EMP_2010</th>\n",
       "    </tr>\n",
       "  </thead>\n",
       "  <tbody>\n",
       "    <tr>\n",
       "      <th>Interpersonal_trust</th>\n",
       "      <td>1.000000</td>\n",
       "      <td>-0.133029</td>\n",
       "      <td>0.035466</td>\n",
       "      <td>-0.024133</td>\n",
       "      <td>0.068507</td>\n",
       "      <td>0.000528</td>\n",
       "      <td>-0.163286</td>\n",
       "      <td>-0.089107</td>\n",
       "      <td>0.138211</td>\n",
       "      <td>-0.001555</td>\n",
       "    </tr>\n",
       "    <tr>\n",
       "      <th>Age</th>\n",
       "      <td>-0.133029</td>\n",
       "      <td>1.000000</td>\n",
       "      <td>0.018596</td>\n",
       "      <td>-0.050950</td>\n",
       "      <td>0.002550</td>\n",
       "      <td>-0.005285</td>\n",
       "      <td>0.265369</td>\n",
       "      <td>0.279736</td>\n",
       "      <td>-0.028200</td>\n",
       "      <td>0.150348</td>\n",
       "    </tr>\n",
       "    <tr>\n",
       "      <th>Gender</th>\n",
       "      <td>0.035466</td>\n",
       "      <td>0.018596</td>\n",
       "      <td>1.000000</td>\n",
       "      <td>-0.048681</td>\n",
       "      <td>0.005671</td>\n",
       "      <td>-0.078318</td>\n",
       "      <td>0.017316</td>\n",
       "      <td>0.012484</td>\n",
       "      <td>0.027894</td>\n",
       "      <td>0.210140</td>\n",
       "    </tr>\n",
       "    <tr>\n",
       "      <th>Education</th>\n",
       "      <td>-0.024133</td>\n",
       "      <td>-0.050950</td>\n",
       "      <td>-0.048681</td>\n",
       "      <td>1.000000</td>\n",
       "      <td>0.212267</td>\n",
       "      <td>0.246611</td>\n",
       "      <td>0.265711</td>\n",
       "      <td>0.345649</td>\n",
       "      <td>-0.285300</td>\n",
       "      <td>-0.198921</td>\n",
       "    </tr>\n",
       "    <tr>\n",
       "      <th>Urban_Rural</th>\n",
       "      <td>0.068507</td>\n",
       "      <td>0.002550</td>\n",
       "      <td>0.005671</td>\n",
       "      <td>0.212267</td>\n",
       "      <td>1.000000</td>\n",
       "      <td>0.148529</td>\n",
       "      <td>0.079541</td>\n",
       "      <td>0.193105</td>\n",
       "      <td>-0.101142</td>\n",
       "      <td>-0.043832</td>\n",
       "    </tr>\n",
       "    <tr>\n",
       "      <th>Household_Income</th>\n",
       "      <td>0.000528</td>\n",
       "      <td>-0.005285</td>\n",
       "      <td>-0.078318</td>\n",
       "      <td>0.246611</td>\n",
       "      <td>0.148529</td>\n",
       "      <td>1.000000</td>\n",
       "      <td>-0.013699</td>\n",
       "      <td>-0.009396</td>\n",
       "      <td>-0.288305</td>\n",
       "      <td>-0.147428</td>\n",
       "    </tr>\n",
       "    <tr>\n",
       "      <th>Regions_Report</th>\n",
       "      <td>-0.163286</td>\n",
       "      <td>0.265369</td>\n",
       "      <td>0.017316</td>\n",
       "      <td>0.265711</td>\n",
       "      <td>0.079541</td>\n",
       "      <td>-0.013699</td>\n",
       "      <td>1.000000</td>\n",
       "      <td>0.643007</td>\n",
       "      <td>-0.234020</td>\n",
       "      <td>-0.044843</td>\n",
       "    </tr>\n",
       "    <tr>\n",
       "      <th>WBI</th>\n",
       "      <td>-0.089107</td>\n",
       "      <td>0.279736</td>\n",
       "      <td>0.012484</td>\n",
       "      <td>0.345649</td>\n",
       "      <td>0.193105</td>\n",
       "      <td>-0.009396</td>\n",
       "      <td>0.643007</td>\n",
       "      <td>1.000000</td>\n",
       "      <td>-0.294185</td>\n",
       "      <td>-0.090291</td>\n",
       "    </tr>\n",
       "    <tr>\n",
       "      <th>Subjective_Income</th>\n",
       "      <td>0.138211</td>\n",
       "      <td>-0.028200</td>\n",
       "      <td>0.027894</td>\n",
       "      <td>-0.285300</td>\n",
       "      <td>-0.101142</td>\n",
       "      <td>-0.288305</td>\n",
       "      <td>-0.234020</td>\n",
       "      <td>-0.294185</td>\n",
       "      <td>1.000000</td>\n",
       "      <td>0.091616</td>\n",
       "    </tr>\n",
       "    <tr>\n",
       "      <th>EMP_2010</th>\n",
       "      <td>-0.001555</td>\n",
       "      <td>0.150348</td>\n",
       "      <td>0.210140</td>\n",
       "      <td>-0.198921</td>\n",
       "      <td>-0.043832</td>\n",
       "      <td>-0.147428</td>\n",
       "      <td>-0.044843</td>\n",
       "      <td>-0.090291</td>\n",
       "      <td>0.091616</td>\n",
       "      <td>1.000000</td>\n",
       "    </tr>\n",
       "  </tbody>\n",
       "</table>\n",
       "</div>"
      ],
      "text/plain": [
       "                     Interpersonal_trust       Age    Gender  Education  \\\n",
       "Interpersonal_trust             1.000000 -0.133029  0.035466  -0.024133   \n",
       "Age                            -0.133029  1.000000  0.018596  -0.050950   \n",
       "Gender                          0.035466  0.018596  1.000000  -0.048681   \n",
       "Education                      -0.024133 -0.050950 -0.048681   1.000000   \n",
       "Urban_Rural                     0.068507  0.002550  0.005671   0.212267   \n",
       "Household_Income                0.000528 -0.005285 -0.078318   0.246611   \n",
       "Regions_Report                 -0.163286  0.265369  0.017316   0.265711   \n",
       "WBI                            -0.089107  0.279736  0.012484   0.345649   \n",
       "Subjective_Income               0.138211 -0.028200  0.027894  -0.285300   \n",
       "EMP_2010                       -0.001555  0.150348  0.210140  -0.198921   \n",
       "\n",
       "                     Urban_Rural  Household_Income  Regions_Report       WBI  \\\n",
       "Interpersonal_trust     0.068507          0.000528       -0.163286 -0.089107   \n",
       "Age                     0.002550         -0.005285        0.265369  0.279736   \n",
       "Gender                  0.005671         -0.078318        0.017316  0.012484   \n",
       "Education               0.212267          0.246611        0.265711  0.345649   \n",
       "Urban_Rural             1.000000          0.148529        0.079541  0.193105   \n",
       "Household_Income        0.148529          1.000000       -0.013699 -0.009396   \n",
       "Regions_Report          0.079541         -0.013699        1.000000  0.643007   \n",
       "WBI                     0.193105         -0.009396        0.643007  1.000000   \n",
       "Subjective_Income      -0.101142         -0.288305       -0.234020 -0.294185   \n",
       "EMP_2010               -0.043832         -0.147428       -0.044843 -0.090291   \n",
       "\n",
       "                     Subjective_Income  EMP_2010  \n",
       "Interpersonal_trust           0.138211 -0.001555  \n",
       "Age                          -0.028200  0.150348  \n",
       "Gender                        0.027894  0.210140  \n",
       "Education                    -0.285300 -0.198921  \n",
       "Urban_Rural                  -0.101142 -0.043832  \n",
       "Household_Income             -0.288305 -0.147428  \n",
       "Regions_Report               -0.234020 -0.044843  \n",
       "WBI                          -0.294185 -0.090291  \n",
       "Subjective_Income             1.000000  0.091616  \n",
       "EMP_2010                      0.091616  1.000000  "
      ]
     },
     "execution_count": 54,
     "metadata": {},
     "output_type": "execute_result"
    }
   ],
   "source": [
    "# Cheking correlations\n",
    "d2.corr()"
   ]
  },
  {
   "cell_type": "code",
   "execution_count": 55,
   "metadata": {},
   "outputs": [],
   "source": [
    "#from pandas.plotting import scatter_matrix\n",
    "#scatter_matrix(df, alpha=0.2, figsize=(10, 10))\n",
    "#plt.show()"
   ]
  },
  {
   "cell_type": "code",
   "execution_count": 56,
   "metadata": {},
   "outputs": [],
   "source": [
    "# Fitting Multiple Linear Regression to the Training set\n",
    "#Splitting the dataset into the Training set and Test set\n",
    "X = d2[[c for c in d2.columns if c != \"Interpersonal_trust\"]]\n",
    "y = d2[\"Interpersonal_trust\"]\n",
    "from sklearn.model_selection import train_test_split\n",
    "X_train, X_test, y_train, y_test = train_test_split(X, y, test_size=0.2, random_state=0)"
   ]
  },
  {
   "cell_type": "code",
   "execution_count": 57,
   "metadata": {},
   "outputs": [],
   "source": [
    "from sklearn.linear_model import LinearRegression\n",
    "sr = LinearRegression(normalize=True).fit(X_train, y_train, )"
   ]
  },
  {
   "cell_type": "code",
   "execution_count": 58,
   "metadata": {},
   "outputs": [],
   "source": [
    "from sklearn.preprocessing import StandardScaler\n",
    "sc_X = StandardScaler().fit(X_train)\n",
    "X_train = sc_X.transform(X_train)\n",
    "X_test = sc_X.transform(X_test)"
   ]
  },
  {
   "cell_type": "code",
   "execution_count": 59,
   "metadata": {},
   "outputs": [
    {
     "data": {
      "text/plain": [
       "(array([-0.00520396,  0.06791721,  0.01023636,  0.1424729 ,  0.01629392,\n",
       "        -0.02642128,  0.04881014,  0.15960317,  0.0006698 ]),\n",
       " 1.6070956220725732)"
      ]
     },
     "execution_count": 59,
     "metadata": {},
     "output_type": "execute_result"
    }
   ],
   "source": [
    "# Getting parameters\n",
    "sr.coef_, sr.intercept_"
   ]
  },
  {
   "cell_type": "code",
   "execution_count": 60,
   "metadata": {},
   "outputs": [
    {
     "data": {
      "text/plain": [
       "array([1.63926837, 1.59102536, 1.85500931, ..., 1.42408254, 1.78066233,\n",
       "       1.74490046])"
      ]
     },
     "execution_count": 60,
     "metadata": {},
     "output_type": "execute_result"
    }
   ],
   "source": [
    "#Predict on train set\n",
    "y_pred = sr.predict(X_train)\n",
    "y_pred"
   ]
  },
  {
   "cell_type": "code",
   "execution_count": 61,
   "metadata": {},
   "outputs": [
    {
     "data": {
      "text/plain": [
       "(-0.16184285080928085, -0.16690606081534676)"
      ]
     },
     "execution_count": 61,
     "metadata": {},
     "output_type": "execute_result"
    }
   ],
   "source": [
    "#Score\n",
    "sr.score(X_train, y_train), sr.score(X_test, y_test)"
   ]
  },
  {
   "cell_type": "code",
   "execution_count": 62,
   "metadata": {},
   "outputs": [],
   "source": [
    "# Predicting the Test set results\n",
    "y_pred1 = sr.predict(X_test)"
   ]
  },
  {
   "cell_type": "code",
   "execution_count": 63,
   "metadata": {},
   "outputs": [
    {
     "data": {
      "text/plain": [
       "(0.9424654138205026, 0.9370171365582675)"
      ]
     },
     "execution_count": 63,
     "metadata": {},
     "output_type": "execute_result"
    }
   ],
   "source": [
    "# Mean squared error\n",
    "from sklearn.metrics import mean_squared_error\n",
    "mean_squared_error(y_train, sr.predict(X_train)), mean_squared_error(y_test, y_pred1)"
   ]
  },
  {
   "cell_type": "code",
   "execution_count": 64,
   "metadata": {},
   "outputs": [
    {
     "data": {
      "text/html": [
       "<table class=\"simpletable\">\n",
       "<caption>OLS Regression Results</caption>\n",
       "<tr>\n",
       "  <th>Dep. Variable:</th>    <td>Interpersonal_trust</td> <th>  R-squared:         </th>  <td>   0.058</td>  \n",
       "</tr>\n",
       "<tr>\n",
       "  <th>Model:</th>                    <td>OLS</td>         <th>  Adj. R-squared:    </th>  <td>   0.058</td>  \n",
       "</tr>\n",
       "<tr>\n",
       "  <th>Method:</th>              <td>Least Squares</td>    <th>  F-statistic:       </th>  <td>   753.1</td>  \n",
       "</tr>\n",
       "<tr>\n",
       "  <th>Date:</th>              <td>Tue, 15 Dec 2020</td>   <th>  Prob (F-statistic):</th>   <td>  0.00</td>   \n",
       "</tr>\n",
       "<tr>\n",
       "  <th>Time:</th>                  <td>00:05:30</td>       <th>  Log-Likelihood:    </th> <td>-1.4186e+05</td>\n",
       "</tr>\n",
       "<tr>\n",
       "  <th>No. Observations:</th>       <td>110440</td>        <th>  AIC:               </th>  <td>2.837e+05</td> \n",
       "</tr>\n",
       "<tr>\n",
       "  <th>Df Residuals:</th>           <td>110430</td>        <th>  BIC:               </th>  <td>2.838e+05</td> \n",
       "</tr>\n",
       "<tr>\n",
       "  <th>Df Model:</th>               <td>     9</td>        <th>                     </th>      <td> </td>     \n",
       "</tr>\n",
       "<tr>\n",
       "  <th>Covariance Type:</th>       <td>nonrobust</td>      <th>                     </th>      <td> </td>     \n",
       "</tr>\n",
       "</table>\n",
       "<table class=\"simpletable\">\n",
       "<tr>\n",
       "    <td></td>       <th>coef</th>     <th>std err</th>      <th>t</th>      <th>P>|t|</th>  <th>[0.025</th>    <th>0.975]</th>  \n",
       "</tr>\n",
       "<tr>\n",
       "  <th>const</th> <td>    1.9904</td> <td>    0.003</td> <td>  756.599</td> <td> 0.000</td> <td>    1.985</td> <td>    1.996</td>\n",
       "</tr>\n",
       "<tr>\n",
       "  <th>x1</th>    <td>   -0.0947</td> <td>    0.003</td> <td>  -33.236</td> <td> 0.000</td> <td>   -0.100</td> <td>   -0.089</td>\n",
       "</tr>\n",
       "<tr>\n",
       "  <th>x2</th>    <td>    0.0339</td> <td>    0.003</td> <td>   12.562</td> <td> 0.000</td> <td>    0.029</td> <td>    0.039</td>\n",
       "</tr>\n",
       "<tr>\n",
       "  <th>x3</th>    <td>    0.0070</td> <td>    0.003</td> <td>    2.308</td> <td> 0.021</td> <td>    0.001</td> <td>    0.013</td>\n",
       "</tr>\n",
       "<tr>\n",
       "  <th>x4</th>    <td>    0.0700</td> <td>    0.003</td> <td>   25.536</td> <td> 0.000</td> <td>    0.065</td> <td>    0.075</td>\n",
       "</tr>\n",
       "<tr>\n",
       "  <th>x5</th>    <td>    0.0231</td> <td>    0.003</td> <td>    8.032</td> <td> 0.000</td> <td>    0.017</td> <td>    0.029</td>\n",
       "</tr>\n",
       "<tr>\n",
       "  <th>x6</th>    <td>   -0.1347</td> <td>    0.003</td> <td>  -38.660</td> <td> 0.000</td> <td>   -0.142</td> <td>   -0.128</td>\n",
       "</tr>\n",
       "<tr>\n",
       "  <th>x7</th>    <td>    0.0523</td> <td>    0.004</td> <td>   14.069</td> <td> 0.000</td> <td>    0.045</td> <td>    0.060</td>\n",
       "</tr>\n",
       "<tr>\n",
       "  <th>x8</th>    <td>    0.1195</td> <td>    0.003</td> <td>   40.850</td> <td> 0.000</td> <td>    0.114</td> <td>    0.125</td>\n",
       "</tr>\n",
       "<tr>\n",
       "  <th>x9</th>    <td>    0.0014</td> <td>    0.003</td> <td>    0.508</td> <td> 0.612</td> <td>   -0.004</td> <td>    0.007</td>\n",
       "</tr>\n",
       "</table>\n",
       "<table class=\"simpletable\">\n",
       "<tr>\n",
       "  <th>Omnibus:</th>       <td>6237.644</td> <th>  Durbin-Watson:     </th> <td>   1.989</td>\n",
       "</tr>\n",
       "<tr>\n",
       "  <th>Prob(Omnibus):</th>  <td> 0.000</td>  <th>  Jarque-Bera (JB):  </th> <td>7213.024</td>\n",
       "</tr>\n",
       "<tr>\n",
       "  <th>Skew:</th>           <td> 0.617</td>  <th>  Prob(JB):          </th> <td>    0.00</td>\n",
       "</tr>\n",
       "<tr>\n",
       "  <th>Kurtosis:</th>       <td> 2.784</td>  <th>  Cond. No.          </th> <td>    2.61</td>\n",
       "</tr>\n",
       "</table><br/><br/>Notes:<br/>[1] Standard Errors assume that the covariance matrix of the errors is correctly specified."
      ],
      "text/plain": [
       "<class 'statsmodels.iolib.summary.Summary'>\n",
       "\"\"\"\n",
       "                             OLS Regression Results                            \n",
       "===============================================================================\n",
       "Dep. Variable:     Interpersonal_trust   R-squared:                       0.058\n",
       "Model:                             OLS   Adj. R-squared:                  0.058\n",
       "Method:                  Least Squares   F-statistic:                     753.1\n",
       "Date:                 Tue, 15 Dec 2020   Prob (F-statistic):               0.00\n",
       "Time:                         00:05:30   Log-Likelihood:            -1.4186e+05\n",
       "No. Observations:               110440   AIC:                         2.837e+05\n",
       "Df Residuals:                   110430   BIC:                         2.838e+05\n",
       "Df Model:                            9                                         \n",
       "Covariance Type:             nonrobust                                         \n",
       "==============================================================================\n",
       "                 coef    std err          t      P>|t|      [0.025      0.975]\n",
       "------------------------------------------------------------------------------\n",
       "const          1.9904      0.003    756.599      0.000       1.985       1.996\n",
       "x1            -0.0947      0.003    -33.236      0.000      -0.100      -0.089\n",
       "x2             0.0339      0.003     12.562      0.000       0.029       0.039\n",
       "x3             0.0070      0.003      2.308      0.021       0.001       0.013\n",
       "x4             0.0700      0.003     25.536      0.000       0.065       0.075\n",
       "x5             0.0231      0.003      8.032      0.000       0.017       0.029\n",
       "x6            -0.1347      0.003    -38.660      0.000      -0.142      -0.128\n",
       "x7             0.0523      0.004     14.069      0.000       0.045       0.060\n",
       "x8             0.1195      0.003     40.850      0.000       0.114       0.125\n",
       "x9             0.0014      0.003      0.508      0.612      -0.004       0.007\n",
       "==============================================================================\n",
       "Omnibus:                     6237.644   Durbin-Watson:                   1.989\n",
       "Prob(Omnibus):                  0.000   Jarque-Bera (JB):             7213.024\n",
       "Skew:                           0.617   Prob(JB):                         0.00\n",
       "Kurtosis:                       2.784   Cond. No.                         2.61\n",
       "==============================================================================\n",
       "\n",
       "Notes:\n",
       "[1] Standard Errors assume that the covariance matrix of the errors is correctly specified.\n",
       "\"\"\""
      ]
     },
     "execution_count": 64,
     "metadata": {},
     "output_type": "execute_result"
    }
   ],
   "source": [
    "# p-values\n",
    "import statsmodels.api as sm\n",
    "X = sm.add_constant(X_train)\n",
    "mr1 = sm.OLS(y_train, X).fit()\n",
    "mr1.pvalues\n",
    "mr1.summary()"
   ]
  },
  {
   "cell_type": "code",
   "execution_count": 67,
   "metadata": {},
   "outputs": [],
   "source": [
    "# Backward Elimination with p-values\n",
    "import statsmodels.api as sm\n",
    "def backwardElimination(x, sl):\n",
    "    numVars = len(x[0])\n",
    "    for i in range(0, numVars):\n",
    "        regressor_OLS = sm.OLS(y, x).fit()\n",
    "        maxVar = max(regressor_OLS.pvalues)\n",
    "        if maxVar > sl:\n",
    "            for j in range(0, numVars - i):\n",
    "                if (regressor_OLS.pvalues[j]) == maxVar:\n",
    "                    x = np.delete(x, j, 1)\n",
    "    regressor_OLS.summary()\n",
    "    return x\n",
    "         \n",
    "SL = 0.05\n",
    "X_opt = X_train[:, [0, 1, 2, 3, 4, 5,6,7,8]]\n",
    "y = y_train\n",
    "X_Modeled = backwardElimination(X_opt, SL)"
   ]
  },
  {
   "cell_type": "code",
   "execution_count": 68,
   "metadata": {},
   "outputs": [],
   "source": [
    "# Fitting Optimized Multiple Linear Regression to the Training set\n",
    "from sklearn.linear_model import LinearRegression\n",
    "omr = LinearRegression().fit(X_train[:, 0:8], y_train)"
   ]
  },
  {
   "cell_type": "code",
   "execution_count": 69,
   "metadata": {},
   "outputs": [
    {
     "data": {
      "text/plain": [
       "(array([-0.09441192,  0.03416901,  0.00681588,  0.07003973,  0.0229723 ,\n",
       "        -0.13471688,  0.05212874,  0.11954457]),\n",
       " 1.9904291923216226)"
      ]
     },
     "execution_count": 69,
     "metadata": {},
     "output_type": "execute_result"
    }
   ],
   "source": [
    "# Getting parameters\n",
    "omr.coef_, omr.intercept_"
   ]
  },
  {
   "cell_type": "code",
   "execution_count": 71,
   "metadata": {},
   "outputs": [],
   "source": [
    "# Predicting the Test set results\n",
    "y_pred = omr.predict(X_test[:, 0:8])"
   ]
  },
  {
   "cell_type": "code",
   "execution_count": 72,
   "metadata": {},
   "outputs": [
    {
     "data": {
      "text/plain": [
       "(0.057823417615109785, 0.060420898571083126)"
      ]
     },
     "execution_count": 72,
     "metadata": {},
     "output_type": "execute_result"
    }
   ],
   "source": [
    "# Coefficient of determination R^2\n",
    "omr.score(X_train[:, 0:8], y_train), omr.score(X_test[:, 0:8], y_test)"
   ]
  },
  {
   "cell_type": "code",
   "execution_count": 74,
   "metadata": {},
   "outputs": [
    {
     "data": {
      "text/plain": [
       "(0.7642762030948063, 0.754475230487495)"
      ]
     },
     "execution_count": 74,
     "metadata": {},
     "output_type": "execute_result"
    }
   ],
   "source": [
    "# Mean squared error\n",
    "from sklearn.metrics import mean_squared_error\n",
    "mean_squared_error(y_train, omr.predict(X_train[:, 0:8])), mean_squared_error(y_test, y_pred)"
   ]
  },
  {
   "cell_type": "code",
   "execution_count": 75,
   "metadata": {},
   "outputs": [],
   "source": [
    "# Exporting the dataset\n",
    "d2.to_csv('WelcomeGlobalMonitore_prep.csv', sep=';', index=False)"
   ]
  }
 ],
 "metadata": {
  "kernelspec": {
   "display_name": "Python 3",
   "language": "python",
   "name": "python3"
  },
  "language_info": {
   "codemirror_mode": {
    "name": "ipython",
    "version": 3
   },
   "file_extension": ".py",
   "mimetype": "text/x-python",
   "name": "python",
   "nbconvert_exporter": "python",
   "pygments_lexer": "ipython3",
   "version": "3.7.9"
  }
 },
 "nbformat": 4,
 "nbformat_minor": 4
}
